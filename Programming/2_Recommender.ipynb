{
  "nbformat": 4,
  "nbformat_minor": 0,
  "metadata": {
    "kernelspec": {
      "display_name": "Python 3",
      "language": "python",
      "name": "python3"
    },
    "language_info": {
      "codemirror_mode": {
        "name": "ipython",
        "version": 3
      },
      "file_extension": ".py",
      "mimetype": "text/x-python",
      "name": "python",
      "nbconvert_exporter": "python",
      "pygments_lexer": "ipython3",
      "version": "3.7.6"
    },
    "colab": {
      "name": "sterg_skou_thema_2.ipynb",
      "provenance": [],
      "collapsed_sections": []
    },
    "widgets": {
      "application/vnd.jupyter.widget-state+json": {
        "84c636e88d8a43749931884e9e66d82b": {
          "model_module": "@jupyter-widgets/controls",
          "model_name": "HBoxModel",
          "model_module_version": "1.5.0",
          "state": {
            "_view_name": "HBoxView",
            "_dom_classes": [],
            "_model_name": "HBoxModel",
            "_view_module": "@jupyter-widgets/controls",
            "_model_module_version": "1.5.0",
            "_view_count": null,
            "_view_module_version": "1.5.0",
            "box_style": "",
            "layout": "IPY_MODEL_d9be9c14fd7b4f039b0f7983b1c4487f",
            "_model_module": "@jupyter-widgets/controls",
            "children": [
              "IPY_MODEL_053426769e2a4b8e802b87c02697f17c",
              "IPY_MODEL_8e0edad8175642aab746ebb5b458643f",
              "IPY_MODEL_fc32b99f0a4d4ad4a8e43fbf7ac418db"
            ]
          }
        },
        "d9be9c14fd7b4f039b0f7983b1c4487f": {
          "model_module": "@jupyter-widgets/base",
          "model_name": "LayoutModel",
          "model_module_version": "1.2.0",
          "state": {
            "_view_name": "LayoutView",
            "grid_template_rows": null,
            "right": null,
            "justify_content": null,
            "_view_module": "@jupyter-widgets/base",
            "overflow": null,
            "_model_module_version": "1.2.0",
            "_view_count": null,
            "flex_flow": null,
            "width": null,
            "min_width": null,
            "border": null,
            "align_items": null,
            "bottom": null,
            "_model_module": "@jupyter-widgets/base",
            "top": null,
            "grid_column": null,
            "overflow_y": null,
            "overflow_x": null,
            "grid_auto_flow": null,
            "grid_area": null,
            "grid_template_columns": null,
            "flex": null,
            "_model_name": "LayoutModel",
            "justify_items": null,
            "grid_row": null,
            "max_height": null,
            "align_content": null,
            "visibility": null,
            "align_self": null,
            "height": null,
            "min_height": null,
            "padding": null,
            "grid_auto_rows": null,
            "grid_gap": null,
            "max_width": null,
            "order": null,
            "_view_module_version": "1.2.0",
            "grid_template_areas": null,
            "object_position": null,
            "object_fit": null,
            "grid_auto_columns": null,
            "margin": null,
            "display": null,
            "left": null
          }
        },
        "053426769e2a4b8e802b87c02697f17c": {
          "model_module": "@jupyter-widgets/controls",
          "model_name": "HTMLModel",
          "model_module_version": "1.5.0",
          "state": {
            "_view_name": "HTMLView",
            "style": "IPY_MODEL_a957ee94ac6f4b3f83dee65f9582abec",
            "_dom_classes": [],
            "description": "",
            "_model_name": "HTMLModel",
            "placeholder": "​",
            "_view_module": "@jupyter-widgets/controls",
            "_model_module_version": "1.5.0",
            "value": "",
            "_view_count": null,
            "_view_module_version": "1.5.0",
            "description_tooltip": null,
            "_model_module": "@jupyter-widgets/controls",
            "layout": "IPY_MODEL_7fd573fc7ea84f23942404629a2720e4"
          }
        },
        "8e0edad8175642aab746ebb5b458643f": {
          "model_module": "@jupyter-widgets/controls",
          "model_name": "FloatProgressModel",
          "model_module_version": "1.5.0",
          "state": {
            "_view_name": "ProgressView",
            "style": "IPY_MODEL_486c1db632734c8c9df257b645d6d23d",
            "_dom_classes": [],
            "description": "",
            "_model_name": "FloatProgressModel",
            "bar_style": "success",
            "max": 1,
            "_view_module": "@jupyter-widgets/controls",
            "_model_module_version": "1.5.0",
            "value": 1,
            "_view_count": null,
            "_view_module_version": "1.5.0",
            "orientation": "horizontal",
            "min": 0,
            "description_tooltip": null,
            "_model_module": "@jupyter-widgets/controls",
            "layout": "IPY_MODEL_002f1520494f42ce8a529f4c05e50fa3"
          }
        },
        "fc32b99f0a4d4ad4a8e43fbf7ac418db": {
          "model_module": "@jupyter-widgets/controls",
          "model_name": "HTMLModel",
          "model_module_version": "1.5.0",
          "state": {
            "_view_name": "HTMLView",
            "style": "IPY_MODEL_93f011c9d74843dbb7e100a516f85841",
            "_dom_classes": [],
            "description": "",
            "_model_name": "HTMLModel",
            "placeholder": "​",
            "_view_module": "@jupyter-widgets/controls",
            "_model_module_version": "1.5.0",
            "value": " 100/? [57:10&lt;00:00,  7.47s/it]",
            "_view_count": null,
            "_view_module_version": "1.5.0",
            "description_tooltip": null,
            "_model_module": "@jupyter-widgets/controls",
            "layout": "IPY_MODEL_7f2d9631efa34260aae089d73e47f744"
          }
        },
        "a957ee94ac6f4b3f83dee65f9582abec": {
          "model_module": "@jupyter-widgets/controls",
          "model_name": "DescriptionStyleModel",
          "model_module_version": "1.5.0",
          "state": {
            "_view_name": "StyleView",
            "_model_name": "DescriptionStyleModel",
            "description_width": "",
            "_view_module": "@jupyter-widgets/base",
            "_model_module_version": "1.5.0",
            "_view_count": null,
            "_view_module_version": "1.2.0",
            "_model_module": "@jupyter-widgets/controls"
          }
        },
        "7fd573fc7ea84f23942404629a2720e4": {
          "model_module": "@jupyter-widgets/base",
          "model_name": "LayoutModel",
          "model_module_version": "1.2.0",
          "state": {
            "_view_name": "LayoutView",
            "grid_template_rows": null,
            "right": null,
            "justify_content": null,
            "_view_module": "@jupyter-widgets/base",
            "overflow": null,
            "_model_module_version": "1.2.0",
            "_view_count": null,
            "flex_flow": null,
            "width": null,
            "min_width": null,
            "border": null,
            "align_items": null,
            "bottom": null,
            "_model_module": "@jupyter-widgets/base",
            "top": null,
            "grid_column": null,
            "overflow_y": null,
            "overflow_x": null,
            "grid_auto_flow": null,
            "grid_area": null,
            "grid_template_columns": null,
            "flex": null,
            "_model_name": "LayoutModel",
            "justify_items": null,
            "grid_row": null,
            "max_height": null,
            "align_content": null,
            "visibility": null,
            "align_self": null,
            "height": null,
            "min_height": null,
            "padding": null,
            "grid_auto_rows": null,
            "grid_gap": null,
            "max_width": null,
            "order": null,
            "_view_module_version": "1.2.0",
            "grid_template_areas": null,
            "object_position": null,
            "object_fit": null,
            "grid_auto_columns": null,
            "margin": null,
            "display": null,
            "left": null
          }
        },
        "486c1db632734c8c9df257b645d6d23d": {
          "model_module": "@jupyter-widgets/controls",
          "model_name": "ProgressStyleModel",
          "model_module_version": "1.5.0",
          "state": {
            "_view_name": "StyleView",
            "_model_name": "ProgressStyleModel",
            "description_width": "",
            "_view_module": "@jupyter-widgets/base",
            "_model_module_version": "1.5.0",
            "_view_count": null,
            "_view_module_version": "1.2.0",
            "bar_color": null,
            "_model_module": "@jupyter-widgets/controls"
          }
        },
        "002f1520494f42ce8a529f4c05e50fa3": {
          "model_module": "@jupyter-widgets/base",
          "model_name": "LayoutModel",
          "model_module_version": "1.2.0",
          "state": {
            "_view_name": "LayoutView",
            "grid_template_rows": null,
            "right": null,
            "justify_content": null,
            "_view_module": "@jupyter-widgets/base",
            "overflow": null,
            "_model_module_version": "1.2.0",
            "_view_count": null,
            "flex_flow": null,
            "width": "20px",
            "min_width": null,
            "border": null,
            "align_items": null,
            "bottom": null,
            "_model_module": "@jupyter-widgets/base",
            "top": null,
            "grid_column": null,
            "overflow_y": null,
            "overflow_x": null,
            "grid_auto_flow": null,
            "grid_area": null,
            "grid_template_columns": null,
            "flex": null,
            "_model_name": "LayoutModel",
            "justify_items": null,
            "grid_row": null,
            "max_height": null,
            "align_content": null,
            "visibility": null,
            "align_self": null,
            "height": null,
            "min_height": null,
            "padding": null,
            "grid_auto_rows": null,
            "grid_gap": null,
            "max_width": null,
            "order": null,
            "_view_module_version": "1.2.0",
            "grid_template_areas": null,
            "object_position": null,
            "object_fit": null,
            "grid_auto_columns": null,
            "margin": null,
            "display": null,
            "left": null
          }
        },
        "93f011c9d74843dbb7e100a516f85841": {
          "model_module": "@jupyter-widgets/controls",
          "model_name": "DescriptionStyleModel",
          "model_module_version": "1.5.0",
          "state": {
            "_view_name": "StyleView",
            "_model_name": "DescriptionStyleModel",
            "description_width": "",
            "_view_module": "@jupyter-widgets/base",
            "_model_module_version": "1.5.0",
            "_view_count": null,
            "_view_module_version": "1.2.0",
            "_model_module": "@jupyter-widgets/controls"
          }
        },
        "7f2d9631efa34260aae089d73e47f744": {
          "model_module": "@jupyter-widgets/base",
          "model_name": "LayoutModel",
          "model_module_version": "1.2.0",
          "state": {
            "_view_name": "LayoutView",
            "grid_template_rows": null,
            "right": null,
            "justify_content": null,
            "_view_module": "@jupyter-widgets/base",
            "overflow": null,
            "_model_module_version": "1.2.0",
            "_view_count": null,
            "flex_flow": null,
            "width": null,
            "min_width": null,
            "border": null,
            "align_items": null,
            "bottom": null,
            "_model_module": "@jupyter-widgets/base",
            "top": null,
            "grid_column": null,
            "overflow_y": null,
            "overflow_x": null,
            "grid_auto_flow": null,
            "grid_area": null,
            "grid_template_columns": null,
            "flex": null,
            "_model_name": "LayoutModel",
            "justify_items": null,
            "grid_row": null,
            "max_height": null,
            "align_content": null,
            "visibility": null,
            "align_self": null,
            "height": null,
            "min_height": null,
            "padding": null,
            "grid_auto_rows": null,
            "grid_gap": null,
            "max_width": null,
            "order": null,
            "_view_module_version": "1.2.0",
            "grid_template_areas": null,
            "object_position": null,
            "object_fit": null,
            "grid_auto_columns": null,
            "margin": null,
            "display": null,
            "left": null
          }
        }
      }
    }
  },
  "cells": [
    {
      "cell_type": "markdown",
      "metadata": {
        "id": "RQChnnUNRWa3"
      },
      "source": [
        "## Ομάδα \n",
        "\n",
        "Στοιχεία Μέλους 1: Σκουρτσή Δήμητρα-Άννα: el18044\n",
        "\n",
        "Στοιχεία Μέλους 2: Στεργιόπουλος Ανστάσιος: el18605"
      ]
    },
    {
      "cell_type": "markdown",
      "metadata": {
        "id": "YNwhI6744rUa"
      },
      "source": [
        "# Τεχνητή Νοημοσύνη: Εργαστηριακή Άσκηση 2\n",
        "---\n",
        "\n",
        "Ο στόχος της εργασίας είναι η κατασκευή ενός συστήματος προτάσεων (Recommendation System) για ταινίες. Οι προτάσεις αυτές θα πηγάζουν τόσο από τα χαρακτηριστικά της ταινίας όσο και από ορισμένες αξιολογήσεις του κάθε χρήστη.\n",
        "\n",
        "Στα δεδομένα της άσκησης περιλαμβάνονται ένα αρχείο με το όνομα movies_metadata.csv το όποιο περιέχει τα χαρακτηριστικά κάθε ταινίας όπως θέμα, σκηνοθέτης ηθοποιοί, λέξεις κλειδιά κ.α. από το imdb καθώς και τα αρχεία ratings.csv τα όποια περιέχουν πραγματικές αξιολογήσεις χρηστών, χωρισμένες σε train και σε test.\n"
      ]
    },
    {
      "cell_type": "markdown",
      "metadata": {
        "id": "021xhsuy4rUa"
      },
      "source": [
        "# Εκφώνηση\n",
        "Στην παρούσα εργασία σας ζητείται να μελετήσετε και να υλοποιήσετε τα παρακάτω:<br>\n",
        "\n",
        "### Μέρος 1\n",
        "Στο μέρος 1 και 2 θα εργαστείτε μόνο με το αρχείο movies_metadata.csv, ενώ στο μέρος τρία θα δουλέψετε και με τα αρχεία των αξιολογήσεων.\n",
        "#### Ερώτημα 1α\n",
        "\n",
        "Αρχικά θα πρέπει, αφού μελετήσετε τη δομή και τα χαρακτηριστικά του movies_metadata.csv, να κατασκευάσετε μια βάση γνώσης για την Prolog η όποια ουσιαστικά θα αποτελεί τον κόσμο με τον όποιο θα εργαστείτε στην συνέχεια. Τα κατηγορήματα που θα δημιουργηθούν θα σας βοηθήσουν και στην κατασκευή του recommender και θα είναι της μορφής:\n",
        "\n",
        "```\n",
        "director(Movie, Director).\n",
        "genre(Movie, Genre).\n",
        "```\n",
        "#### Ερώτημα 1β\n",
        "\n",
        "Αφού δημιουργήσετε τον κόσμο του προβλήματος, στη συνέχεια καλείστε να δημιουργήσετε, σε Prolog, απλούς κανόνες οι οποίοι θα βρίσκουν όλες τις ταινίες με:\n",
        "1.\tΚοινό θέμα (κάποιες λέξεις σχετικά με το genre κοινές)\n",
        "2.\tΑρκετά κοινό θέμα (κάποιες λιγότερες λέξεις σχετικά με το genre κοινές π.χ. 3)\n",
        "3.\tΣχετικά κοινό θέμα (λίγες λέξεις σχετικές με το genre κοινές π.χ. 1)\n",
        "4.\tΚοινός σκηνοθέτης\n",
        "5.\tΑκριβώς ίδια πλοκή (κάποιες λέξεις κλειδιά της πλοκής κοινές)\n",
        "6.\tΣχετικά ίδια πλοκή (κάποιες λιγότερες λέξεις κλειδιά κοινές)\n",
        "7.\tΊδιους τους βασικούς ηθοποιούς (και τους 3)\n",
        "8.\tΑρκετά ίδιους βασικούς ηθοποιούς (ορισμένους βασικούς ηθοποιούς κοινούς π.χ. 2)\n",
        "9.\tΣχετικά ίδιους ηθοποιούς (π.χ. 1 από τους 3)\n",
        "10.\tΊδια γλώσσα\n",
        "11.\tΕίναι έγχρωμες ή ασπρόμαυρες\n",
        "12. Κοινό studio παραγωγής\n",
        "13. Κοινή χώρα παραγωγής \n",
        "14. Ίδια δεκαετία \n",
        "\n",
        "Αξίζει να σημειωθεί ότι στα παραπάνω μπορείτε να προσθέσετε περισσότερα ερωτήματα ή να αλλάξετε την κλιμακωσιμότητα των queries (πέρα από το ίδιο, αρκετά ίδιο, σχετικά ίδιο) που θα κατασκευάσετε(π.χ. μια κλίμακα από 1 στα 5 όπου αυτό είναι δυνατόν), μιας και αυτά στην συνέχεια θα χρησιμοποιηθούν για την λειτουργία του recommender. Έτσι μπορείτε να προσθέσετε queries με τα όποια μπορεί να παράγονται καλύτερες συστάσεις  (το αρχείο movie_metadata.csv περιέχει πολλές πληροφορίες ακόμα για κάθε ταινία όπως έτος κυκλοφορίας, βαθμολογία στο imdb, facebοok_likes κ.α.). Το συγκεκριμένο μέρος εργασίας είναι προπαρασκευαστικό οπότε όσο καλύτερα και πλουσιότερα τα ερωτήματα που θα φτιάξετε σε αυτό το μέρος τόσο καλύτερη θα είναι η απόδοσή των συστημάτων συστάσεων των επόμενων ερωτημάτων.\n",
        "\n",
        "Περισσότερες πληροφορίες για το dataset μπορείτε να διαβάσετε σε αυτό το [Link](https://www.kaggle.com/georgefila/movies-metadata):\n",
        "### Μέρος 2: Recommendation System\n",
        "Στο σημείο αυτό καλείστε με βάση αυτά που κάνατε στο μέρος 1 να κατασκευάσετε queries τα όποια θα σας επιστρέφουν παρόμοιες (σε χαρακτηριστικά) ταινίες. Τα ερωτήματα αυτά θα είναι κλιμακούμενα, δηλαδή θα υπάρχουν ερωτήματα που επιστρέφουν αρκετά κοινές ταινίες αλλά και που επιστρέφουν λιγότερο και λιγότερο κοινές (σε μια κλίμακα π.χ. από 1 σε 5). Για παράδειγμα:\n",
        "\n",
        "```\n",
        "find_simmilar_movies_5(\"Pirates Of The Caribbean\", M).\n",
        "M = \"Pirates Of The Caribbean: On Stranger Tides\"\n",
        "M = \"The Chronicles Of Narnia\"\n",
        "M = \"Prince Of Persia: The Sands Of Time\"\n",
        "...\n",
        "```\n",
        "Για παράδειγμα, το παραπάνω ερώτημα θα επιστρέφει αρκετά κοινές σε περιεχόμενο ταινίες με την ταινια \"Pirates Of The Caribbean\". Θα υπάρχουν και αντίστοιχα ερωτήματα που θα βρίσκουν λιγότερο όμοιες ταινίες. Ο δείκτης ομοιότητας των ταινιών είναι αυθαίρετος και μπορείτε να τον ορίσετε εσείς όπως θέλετε, αρκεί να υπάρχει κάποια λογική σύνδεση με τα δεδομένα που περιέχονται στο αρχείο movies_metadata.csv. \n",
        "\n",
        "Συνεπώς η συνάρτηση που θα κάνει τις προτάσεις (recommendation) με είσοδο μια ταινία πρέπει να επιστρέφει-εκτυπώνει μια λίστα με τις προτεινόμενες ταινίες κατά φθίνουσα σειρά ομοιότητας. \n",
        "\n",
        "\n",
        "###3ο Μέρος: Recommendation System Με βάση τις προτιμήσεις - Αξιολογήσεις του χρήστη\n",
        "\n",
        "\n",
        "Σε αυτό το σημείο θα εργαστείτε με τα αρχεία ratings τα όποια περιέχουν αξιολογήσεις (από 1 μέχρι 5) για τις παραπάνω ταινίες. Το προηγούμενο σύστημα συστάσεων προτείνει στον χρήστη ταινίες αποκλειστικά με βάση την ομοιότητά τους. Σε αυτό το σημείο θα γίνει μια αναβάθμιση του συστήματος έτσι ώστε να παράγονται καλύτερες  συστάσεις οι όποιες θα λαμβάνουν υπόψιν και τις προτιμήσεις του χρήστη, οι όποιες θα εξάγονται από τις αξιολογήσεις που έχει κάνει μέχρι στιγμής. \n",
        "\n",
        "Η εκπαίδευση του recommender θα γίνεται ως εξής:\n",
        "\n",
        "Για κάθε ταινία θα υπάρχει ένα score το όποιο αρχικά θε είναι ίσο με 0 και θα διαμορφώνεται από τις αξιολογήσεις κάθε user. Έτσι για έναν χρήστη με βάση τις αξιολογήσεις που υπάρχουν στο αρχείο train_ratings θα πρέπει:\n",
        "\n",
        "1.\tΓια κάθε ταινία που έχει βαθμολογήσει να βρίσκονται οι κοινές ταινίες ανά κλίμακα και στο μέχρι τώρα σκορ κάθε παρόμοιας ταινίας θα προστίθεται ένα βάρος το όποιο θα μπορούσε να είναι το ποσοστό ομοιότητας της ταινίας (δηλαδή ένα βάρος για κάθε κλίμακα, αν δύο ταινίες μοιάζουν ενισχύουμε το βάρος που προσθέτουμε από το να μοιάζουν λιγότερο) επί τον βαθμό που έχει βάλει ο χρήστης για την αρχική ταινία (διαφορετικό είναι ο χρήστης να έχει βάλει 5/5 ή 1/5 σε μια ταινία από 3/5). \n",
        "\n",
        "2. Στη συνέχεια, ανάλογα με το σκορ που έχει σχηματιστεί για κάθε ταινία, θα επιλέγεται αν αυτή θα μπορούσε να είναι προτεινόμενη για τον χρήστη ή όχι και θα μετράμε το πόσο καλά τα πήγε το σύστήμά μας με βάση ορισμένες μετρικές.\n",
        "\n",
        "Η λογική πίσω από την παραπάνω διαδικασία είναι ότι παρόμοιες ταινίες θα έχουν ανάλογο βαθμό. Για παράδειγμα αν ένας χρήστης έχει αξιολογήσει αρκετές  ταινίες οι όποιες είναι sci-fiction με 5/5 τότε μια ταίνια sci-fiction την όποια δεν έχει δεί λογικά θα του αρέσει και θα έπρεπε να την προτείνουμε.\n",
        "\n",
        "Μετά την εκπαίδευση του συστήματος σας καλείστε να δοκιμάσετε τον recommender που κατασκευάσατε στην πράξη. Για τον σκοπό αυτό θα φορτώσετε το αρχείο test_ratings.csv όπου περιέχονται οι αξιολογήσεις του ίδιου χρήστη για άλλες ταινίες. Το σύστημά σας πρέπει να προβλέπει αν μια ταινία θα πρέπει να προταθεί στον χρήστη. Μια ταίνια θα έπρεπε να έχει προταθεί στον  χρήστη, αν έχει βαθμό μεγαλύτερο του 3. Συνεπώς για την επίβλεψη του συστήματός σας θα πρέπει για κάθε μια από τις ταινίες του αρχείου test_ratings.csv να επιστρέφεται 1 ή 0 αν η ταινία θα έπαιρνε βαθμό μεγαλύτερο του 3 ή όχι, δηλαδή αν θα έπρεπε να την είχαμε προτείνει ή όχι.\n",
        "\n",
        "Στην συνέχεια, σε συνδιασμό με τις πραγματικές απαντήσεις του χρήστη θα αξιολογήσετε το σύστημά σας χρησιμοποιόντας τις μετρικές: precision, recall, f1 οι οποίες είναι οι πλέον γνωστές μετρικές και ευρέως χρησιμοποιούμενες τεχνικές για την επίβλεψη-μέτρηση απόδοσης ανάλογων συστημάτων.\n",
        "\n",
        "1. Precision: Δείχνει πόσο ακριβές είναι το σύστημα. Υπολογίζει πόσα από τα στιγμιότυπα τα όποια προβλέψαμε ότι ανήκουν σε μια κλάση όντως ανήκουν σε αυτή. Η μετρική αυτή μας δίνει μια εικόνα σχετικά με τον αριθμό των ταινίων που προβλέψαμε ως προτεινόμενες ενώ δεν θα έπρεπε.\n",
        "\n",
        "2. Recall: Υπολογίζει πόσα από τα στιγμιότυπα που ανήκουν σε μια κλάση (π.χ. προτεινόμενες ταινίες) προβλέφθηκαν σωστά.\n",
        "\n",
        "3. F1: Είναι ένας μέσος μεταξύ των παραπάνω δυο μετρικών, έτσι ώστε να διατηρείται μια ισορροπία μεταξύ τους. Υπολογίζεται από την παρακάτω σχέση:\n",
        "\n",
        "$$F_1=2\\frac{Precision\\times{Recall}}{Precision+Recall}$$\n",
        "\n",
        "Οι παραπάνω συναρτήσεις παρέχονται από την βιβλιοθήκη scikit-learn.\n",
        "\n",
        "Τέλος για την καλύτερη επίβλεψη του συστήματος σας μπορείτε να εκπαιδεύσετε  τον recommender σας με ένα υποσύνολο ταινίων από ελάχιστες, λίγες μέχρι και πολλές (π.χ. 3, 5, 10, 50, ...) για να μελετήσετε κατά πόσο σας βοηθούν οι επιπλέον αξιολογήσεις κάθε φορά (δηλαδή κατά πόσο βελτιώνονται οι παραπάνω μετρικές στο test set). \n",
        "\n",
        "Έτσι π.χ. μπορείτε να εντοπίσετε περιπτώσεις όπως για παράδειγμα ότι με έναν recommender μπορεί να μην επιτυγχάνετε πολύ υψηλό σκορ όσο με άλλους, αλλά το βέλτιστο σκόρ σας επιτυγχάνεται πολύ γρηγόρα π.χ. με μόνο 10 ταινίες αντί 100. Έτσι για παράδειγμα αν ο αλγόριθμος τα πηγαίνει πολύ καλά για τρεις ταινίες και στη συνέχεια το σκορ βελτιώνεται ελάχιστα τότε αυτός ενδείκνυται για ένα σύστημα συστάσεων για νέους χρήστες όπου δεδομένου λίγων ταινιών ο αλγόριθμος είναι σε θέση να το να προτείνει καλές συστάσεις. Ενώ αν η καλύτερη απόδοση του αλγορίθμου σας είναι βέλτιστη με περισσότερες ταινίες π.χ. 50 τότε αυτός ο αλγόριθμος συστάσεων ενδείκνυται για παλιούς χρήστες με πολλές αξιολόγησεις. "
      ]
    },
    {
      "cell_type": "markdown",
      "metadata": {
        "id": "9HWH0oMY4rUb"
      },
      "source": [
        "---\n",
        "## Κατασκευή Περιβάλλοντος Εργασίας\n",
        "---\n",
        "### Διάβασμα Αρχείων στο Colab (Μόνο για το Colab)\n",
        "Αν η υλοποίηση γίνει στο google colab τότε μπορεί να χρησιμοποιηθεί το google drive ως file system. Για να γίνει Mount το google drive τρέχουμε τον παρακάτω κώδικα και κλικάρουμε στο link που θα μας εμφανιστεί. \n",
        "\n",
        "```\n",
        "from google.colab import drive\n",
        "drive.mount('/content/drive')\n",
        "import os\n",
        "os.listdir('/content/drive/My Drive')\n",
        "```\n",
        "Έπειτα στην σελίδα που άνοιξε επιλέγουμε το mail μας και στο επόμενο παράθυρο που θα μας ανοίξει πατάμε Να επιτρέπεται. Στην συνέχεια αντιγράφουμε τον κωδικό που θα μας βγάλει και τον κάνουμε paste στο Input που έχει ανοίξει στο colab. Έτσι πλέον αν έχουμε ανεβάσει ένα αρχείο στο google drive μπορούμε να το βρούμε στην θέση:\n",
        "\n",
        "```\n",
        "movies_filename = '/content/drive/My Drive/' + movies_metadata.csv\n",
        "```\n",
        "Μπορούμε πλέον κανονικά να δουλέψουμε φτιάχνοντας φακέλους ή αρχεία και γενικότερα κάνοντας οτιδήποτε θα κάναμε αν ήμασταν τοπικά. \n",
        "\n",
        "### Prolog μέσω Python\n",
        "\n",
        "Το πακέτο που θα χρησιμοποιηθεί για την επικοινωνία Python και Prolog είναι το pyswip (https://pypi.org/project/pyswip/). Για να δουλέψει το Pyswip  χρειάζεται να υπάρχει το Swi-Prolog το όποιο αν δουλεύουμε τοπικά πρέπει να το εγκαταστήσουμε, ακολουθώντας αντίστοιχες οδηγίες στην σελίδα του εργαλείου. Για να γίνει του Swi-Prolog η εγκατάσταση στο Google Colab πρέπει να τρέξουμε τον παρακάτω κώδικα:\n",
        "\n",
        "```\n",
        "!sudo apt-get install software-properties-common\n",
        "!sudo apt-add-repository ppa:swi-prolog/stable\n",
        "!sudo apt-get update\n",
        "!sudo apt-get install swi-prolog\n",
        "```\n",
        "Σε κάποιο σημείο της εκτέλεσης εμφανίζεται ένα μήνυμα ότι πρέπει να πατήσουμε enter σε ένα input για να συνεχίσει η διαδικασία. Έπειτα από αυτό η εκτέλεση θα συνεχίσει χωρίς κάποιο πρόβλημα.\n",
        "\n",
        "Τέλος πρέπει να εγκαταστήσουμε το pyswip (**όπου και να δουλεύουμε**) όπως παρακάτω:\n",
        "\n",
        "```\n",
        "!pip isntall pyswip\n",
        "```\n"
      ]
    },
    {
      "cell_type": "markdown",
      "metadata": {
        "id": "doHQmp994rUb"
      },
      "source": [
        "---\n",
        "#Κώδικας για κατασκευή περιβάλλοντος εργασίας\n",
        "\n",
        "##Μόνο για Google Colab\n",
        "\n",
        "Κώδικας για να γίνει Mount to Google Drive"
      ]
    },
    {
      "cell_type": "code",
      "metadata": {
        "id": "4QOs_gnx4rUb",
        "colab": {
          "base_uri": "https://localhost:8080/"
        },
        "outputId": "1a4535c8-9625-4ddb-faa0-053f22340896"
      },
      "source": [
        "from google.colab import drive\n",
        "drive.mount('/content/drive')\n",
        "\n",
        "import os\n",
        "os.listdir('/content/drive/My Drive')\n",
        "path = '/content/drive/My Drive/'"
      ],
      "execution_count": null,
      "outputs": [
        {
          "output_type": "stream",
          "name": "stdout",
          "text": [
            "Mounted at /content/drive\n"
          ]
        }
      ]
    },
    {
      "cell_type": "code",
      "metadata": {
        "id": "xZdXjQr64rUc"
      },
      "source": [
        "%%capture\n",
        "#install swi-prolog\n",
        "!sudo apt-get install software-properties-common\n",
        "!sudo apt-add-repository ppa:swi-prolog\n",
        "!sudo apt-get update\n",
        "!sudo apt-get install swi-prolog\n",
        "#install pyswip\n",
        "!pip install pyswip"
      ],
      "execution_count": null,
      "outputs": []
    },
    {
      "cell_type": "markdown",
      "metadata": {
        "id": "GxLahZ-i4rUc"
      },
      "source": [
        "\n",
        "# **Μέρος 1: Μελέτη των Metadata, Δημιουργία κόσμου και των βασικών queries.**\n"
      ]
    },
    {
      "cell_type": "code",
      "metadata": {
        "id": "gA3CRz5c4rUc"
      },
      "source": [
        "import pandas as pd\n",
        "from pyswip import Prolog"
      ],
      "execution_count": null,
      "outputs": []
    },
    {
      "cell_type": "code",
      "metadata": {
        "id": "jnVDBIDw4rUd",
        "colab": {
          "base_uri": "https://localhost:8080/",
          "height": 712
        },
        "outputId": "aaff7a75-617c-4304-f53d-74e84fa1b2fa"
      },
      "source": [
        "# Η βιβλιοθήκη pandas είναι χρήσιμη για την εργασία με τέτοια δεδομένα\n",
        "import pandas as pd \n",
        "# Διάβασμα του αρχείου 'movie_metadata.csv' \n",
        "data = pd.read_csv(path + \"movies_metadata.csv\") \n",
        "#Στο csv υπαρχούν κελία με nan τιμές\n",
        "#Στις θέσεις αυτές βάζουμε 'UNK' πράγμα που  κάνουμε με την παρακάτω συνάρτηση\n",
        "data.fillna(\"UNK\", inplace=True)\n",
        "# Preview the first 5 lines of the loaded data \n",
        "data.head()"
      ],
      "execution_count": null,
      "outputs": [
        {
          "output_type": "execute_result",
          "data": {
            "text/html": [
              "<div>\n",
              "<style scoped>\n",
              "    .dataframe tbody tr th:only-of-type {\n",
              "        vertical-align: middle;\n",
              "    }\n",
              "\n",
              "    .dataframe tbody tr th {\n",
              "        vertical-align: top;\n",
              "    }\n",
              "\n",
              "    .dataframe thead th {\n",
              "        text-align: right;\n",
              "    }\n",
              "</style>\n",
              "<table border=\"1\" class=\"dataframe\">\n",
              "  <thead>\n",
              "    <tr style=\"text-align: right;\">\n",
              "      <th></th>\n",
              "      <th>Unnamed: 0</th>\n",
              "      <th>budget</th>\n",
              "      <th>genres</th>\n",
              "      <th>homepage</th>\n",
              "      <th>id</th>\n",
              "      <th>plot_keywords</th>\n",
              "      <th>language</th>\n",
              "      <th>original_title</th>\n",
              "      <th>overview</th>\n",
              "      <th>popularity</th>\n",
              "      <th>production_companies</th>\n",
              "      <th>production_countries</th>\n",
              "      <th>release_date</th>\n",
              "      <th>gross</th>\n",
              "      <th>duration</th>\n",
              "      <th>spoken_languages</th>\n",
              "      <th>status</th>\n",
              "      <th>tagline</th>\n",
              "      <th>movie_title</th>\n",
              "      <th>vote_average</th>\n",
              "      <th>num_voted_users</th>\n",
              "      <th>title_year</th>\n",
              "      <th>country</th>\n",
              "      <th>director_name</th>\n",
              "      <th>actor_1_name</th>\n",
              "      <th>actor_2_name</th>\n",
              "      <th>actor_3_name</th>\n",
              "    </tr>\n",
              "  </thead>\n",
              "  <tbody>\n",
              "    <tr>\n",
              "      <th>0</th>\n",
              "      <td>0</td>\n",
              "      <td>237000000</td>\n",
              "      <td>Action|Adventure|Fantasy|Science Fiction</td>\n",
              "      <td>http://www.avatarmovie.com/</td>\n",
              "      <td>19995</td>\n",
              "      <td>culture clash|future|space war|space colony|so...</td>\n",
              "      <td>English</td>\n",
              "      <td>Avatar</td>\n",
              "      <td>In the 22nd century, a paraplegic Marine is di...</td>\n",
              "      <td>150.437577</td>\n",
              "      <td>[{'name': 'Ingenious Film Partners', 'id': 289...</td>\n",
              "      <td>[{'iso_3166_1': 'US', 'name': 'United States o...</td>\n",
              "      <td>2009-12-10</td>\n",
              "      <td>2787965087</td>\n",
              "      <td>162</td>\n",
              "      <td>[{'iso_639_1': 'en', 'name': 'English'}, {'iso...</td>\n",
              "      <td>Released</td>\n",
              "      <td>Enter the World of Pandora.</td>\n",
              "      <td>Avatar</td>\n",
              "      <td>7.2</td>\n",
              "      <td>11800</td>\n",
              "      <td>2009</td>\n",
              "      <td>United States of America</td>\n",
              "      <td>James Cameron</td>\n",
              "      <td>Zoe Saldana</td>\n",
              "      <td>Sigourney Weaver</td>\n",
              "      <td>Stephen Lang</td>\n",
              "    </tr>\n",
              "    <tr>\n",
              "      <th>1</th>\n",
              "      <td>1</td>\n",
              "      <td>300000000</td>\n",
              "      <td>Adventure|Fantasy|Action</td>\n",
              "      <td>http://disney.go.com/disneypictures/pirates/</td>\n",
              "      <td>285</td>\n",
              "      <td>ocean|drug abuse|exotic island|east india trad...</td>\n",
              "      <td>English</td>\n",
              "      <td>Pirates of the Caribbean: At World's End</td>\n",
              "      <td>Captain Barbossa, long believed to be dead, ha...</td>\n",
              "      <td>139.082615</td>\n",
              "      <td>[{'name': 'Walt Disney Pictures', 'id': 2}, {'...</td>\n",
              "      <td>[{'iso_3166_1': 'US', 'name': 'United States o...</td>\n",
              "      <td>2007-05-19</td>\n",
              "      <td>961000000</td>\n",
              "      <td>169</td>\n",
              "      <td>[{'iso_639_1': 'en', 'name': 'English'}]</td>\n",
              "      <td>Released</td>\n",
              "      <td>At the end of the world, the adventure begins.</td>\n",
              "      <td>Pirates of the Caribbean: At World's End</td>\n",
              "      <td>6.9</td>\n",
              "      <td>4500</td>\n",
              "      <td>2007</td>\n",
              "      <td>United States of America</td>\n",
              "      <td>Gore Verbinski</td>\n",
              "      <td>Orlando Bloom</td>\n",
              "      <td>Keira Knightley</td>\n",
              "      <td>Stellan Skarsgård</td>\n",
              "    </tr>\n",
              "    <tr>\n",
              "      <th>2</th>\n",
              "      <td>2</td>\n",
              "      <td>245000000</td>\n",
              "      <td>Action|Adventure|Crime</td>\n",
              "      <td>http://www.sonypictures.com/movies/spectre/</td>\n",
              "      <td>206647</td>\n",
              "      <td>spy|based on novel|secret agent|sequel|mi6|bri...</td>\n",
              "      <td>Français</td>\n",
              "      <td>Spectre</td>\n",
              "      <td>A cryptic message from Bond’s past sends him o...</td>\n",
              "      <td>107.376788</td>\n",
              "      <td>[{'name': 'Columbia Pictures', 'id': 5}, {'nam...</td>\n",
              "      <td>[{'iso_3166_1': 'GB', 'name': 'United Kingdom'...</td>\n",
              "      <td>2015-10-26</td>\n",
              "      <td>880674609</td>\n",
              "      <td>148</td>\n",
              "      <td>[{'iso_639_1': 'fr', 'name': 'Français'}, {'is...</td>\n",
              "      <td>Released</td>\n",
              "      <td>A Plan No One Escapes</td>\n",
              "      <td>Spectre</td>\n",
              "      <td>6.3</td>\n",
              "      <td>4466</td>\n",
              "      <td>2015</td>\n",
              "      <td>United Kingdom</td>\n",
              "      <td>Sam Mendes</td>\n",
              "      <td>Christoph Waltz</td>\n",
              "      <td>Léa Seydoux</td>\n",
              "      <td>Ralph Fiennes</td>\n",
              "    </tr>\n",
              "    <tr>\n",
              "      <th>3</th>\n",
              "      <td>3</td>\n",
              "      <td>250000000</td>\n",
              "      <td>Action|Crime|Drama|Thriller</td>\n",
              "      <td>http://www.thedarkknightrises.com/</td>\n",
              "      <td>49026</td>\n",
              "      <td>dc comics|crime fighter|terrorist|secret ident...</td>\n",
              "      <td>English</td>\n",
              "      <td>The Dark Knight Rises</td>\n",
              "      <td>Following the death of District Attorney Harve...</td>\n",
              "      <td>112.312950</td>\n",
              "      <td>[{'name': 'Legendary Pictures', 'id': 923}, {'...</td>\n",
              "      <td>[{'iso_3166_1': 'US', 'name': 'United States o...</td>\n",
              "      <td>2012-07-16</td>\n",
              "      <td>1084939099</td>\n",
              "      <td>165</td>\n",
              "      <td>[{'iso_639_1': 'en', 'name': 'English'}]</td>\n",
              "      <td>Released</td>\n",
              "      <td>The Legend Ends</td>\n",
              "      <td>The Dark Knight Rises</td>\n",
              "      <td>7.6</td>\n",
              "      <td>9106</td>\n",
              "      <td>2012</td>\n",
              "      <td>United States of America</td>\n",
              "      <td>Christopher Nolan</td>\n",
              "      <td>Michael Caine</td>\n",
              "      <td>Gary Oldman</td>\n",
              "      <td>Anne Hathaway</td>\n",
              "    </tr>\n",
              "    <tr>\n",
              "      <th>4</th>\n",
              "      <td>4</td>\n",
              "      <td>260000000</td>\n",
              "      <td>Action|Adventure|Science Fiction</td>\n",
              "      <td>http://movies.disney.com/john-carter</td>\n",
              "      <td>49529</td>\n",
              "      <td>based on novel|mars|medallion|space travel|pri...</td>\n",
              "      <td>English</td>\n",
              "      <td>John Carter</td>\n",
              "      <td>John Carter is a war-weary, former military ca...</td>\n",
              "      <td>43.926995</td>\n",
              "      <td>[{'name': 'Walt Disney Pictures', 'id': 2}]</td>\n",
              "      <td>[{'iso_3166_1': 'US', 'name': 'United States o...</td>\n",
              "      <td>2012-03-07</td>\n",
              "      <td>284139100</td>\n",
              "      <td>132</td>\n",
              "      <td>[{'iso_639_1': 'en', 'name': 'English'}]</td>\n",
              "      <td>Released</td>\n",
              "      <td>Lost in our world, found in another.</td>\n",
              "      <td>John Carter</td>\n",
              "      <td>6.1</td>\n",
              "      <td>2124</td>\n",
              "      <td>2012</td>\n",
              "      <td>United States of America</td>\n",
              "      <td>Andrew Stanton</td>\n",
              "      <td>Lynn Collins</td>\n",
              "      <td>Samantha Morton</td>\n",
              "      <td>Willem Dafoe</td>\n",
              "    </tr>\n",
              "  </tbody>\n",
              "</table>\n",
              "</div>"
            ],
            "text/plain": [
              "   Unnamed: 0     budget  ...      actor_2_name       actor_3_name\n",
              "0           0  237000000  ...  Sigourney Weaver       Stephen Lang\n",
              "1           1  300000000  ...   Keira Knightley  Stellan Skarsgård\n",
              "2           2  245000000  ...       Léa Seydoux      Ralph Fiennes\n",
              "3           3  250000000  ...       Gary Oldman      Anne Hathaway\n",
              "4           4  260000000  ...   Samantha Morton       Willem Dafoe\n",
              "\n",
              "[5 rows x 27 columns]"
            ]
          },
          "metadata": {},
          "execution_count": 5
        }
      ]
    },
    {
      "cell_type": "code",
      "metadata": {
        "id": "sPAqSe0n4rUd"
      },
      "source": [
        "def clean_text(text):\n",
        "  text = text.replace(u'\\xa0', u'')\n",
        "  text = text.replace(u\"'\", u'')\n",
        "  return text"
      ],
      "execution_count": null,
      "outputs": []
    },
    {
      "cell_type": "code",
      "metadata": {
        "id": "RcOo0hyJ4rUd"
      },
      "source": [
        "#create World\n",
        "#Ορίζουμε τον κόσμο μας\n",
        "prolog = Prolog()\n",
        "\n",
        "#Για κάθε row του πίνακα φτιάχνουμε τα κατηγορήματα που θέλουμε να αποθηκέυσουμε\n",
        "#αρχικά σε μια λίστα με το όνομα literals\n",
        "literals = []\n",
        "movie_score = {}\n",
        "for row in data.itertuples(index=True, name='Pandas'):\n",
        "  movie_title = clean_text(getattr(row, 'movie_title'))\n",
        "  if movie_title != 'UNK':\n",
        "\n",
        "    for genre in getattr(row, 'genres').split(\"|\"):\n",
        "      if genre != 'UNK':\n",
        "        literals.append(\"genre('\"+ movie_title +\"','\"+ genre +\"')\")\n",
        "\n",
        "    for director in getattr(row, 'director_name').split(\"|\"):\n",
        "      if director != 'UNK':\n",
        "        literals.append(\"director('\"+ movie_title +\"','\"+ clean_text(director) +\"')\")\n",
        "\n",
        "    baw = 0\n",
        "    for plotKeywords in getattr(row, 'plot_keywords').split(\"|\"):\n",
        "      if plotKeywords != 'UNK':\n",
        "        if plotKeywords == \"black and white\":\n",
        "          literals.append(\"colour('\"+ movie_title +\"','\"+ \"black_and_white\" +\"')\")\n",
        "          baw = 1\n",
        "        else:\n",
        "          literals.append(\"plotKeyWord('\"+ movie_title +\"','\"+ clean_text(plotKeywords) +\"')\")\n",
        "    if baw == 0:\n",
        "      literals.append(\"colour('\"+ movie_title +\"','\"+ \"in_colour\" +\"')\")\n",
        "          \n",
        "\n",
        "    for language in getattr(row, 'language').split(\"|\"):\n",
        "      if language != 'UNK':\n",
        "        literals.append(\"language('\"+ movie_title +\"','\"+ language +\"')\")\n",
        "\n",
        "    for releaseyear in str(getattr(row, 'title_year')).split(\"|\"):\n",
        "      if releaseyear != 'UNK':\n",
        "        literals.append(\"releaseYear('\"+ movie_title +\"','\"+ releaseyear +\"')\")\n",
        "\n",
        "    for duration in str(getattr(row, 'duration')).split(\"|\"):\n",
        "      if duration != 'UNK':\n",
        "        literals.append(\"duration('\"+ movie_title +\"','\"+ duration +\"')\")\n",
        "\n",
        "    i = 0\n",
        "    previous = -2\n",
        "    for studio in getattr(row, 'production_companies').split(\"'\"):\n",
        "      i+=1\n",
        "      if i-previous == 6:\n",
        "        previous = i\n",
        "        if studio != 'UNK':\n",
        "          literals.append(\"production('\"+ movie_title +\"','\"+ clean_text(studio) +\"')\")\n",
        "\n",
        "    for country in getattr(row, 'country').split(\"|\"):\n",
        "      if country != 'UNK':\n",
        "        literals.append(\"country('\"+ movie_title +\"','\"+ clean_text(country) +\"')\")\n",
        "    \n",
        "    for actor1 in getattr(row, 'actor_1_name').split(\"|\"):\n",
        "      if actor1 != 'UNK':\n",
        "        literals.append(\"actor('\"+ movie_title +\"','\"+ clean_text(actor1) +\"')\")\n",
        "\n",
        "    for actor2 in getattr(row, 'actor_2_name').split(\"|\"):\n",
        "      if actor2 != 'UNK':\n",
        "        literals.append(\"actor('\"+ movie_title +\"','\"+ clean_text(actor2) +\"')\")\n",
        "\n",
        "    for actor3 in getattr(row, 'actor_3_name').split(\"|\"):\n",
        "      if actor3 != 'UNK':\n",
        "        literals.append(\"actor('\"+ movie_title +\"','\"+ clean_text(actor3) +\"')\")\n",
        "\n",
        "#Η Prolog θέλει τα κατηγορήματά της με την σειρά \n",
        "literals.sort()\n",
        "for literal in literals:\n",
        "  prolog.assertz(literal)\n",
        "  # print (literal +'.')\n",
        "\n",
        "#Επίσης μπορούμε να κάνουμε consult ένα έτοιμο αρχείο στον κόσμο όπως παρακάτω\n",
        "# prolog.consult(path + \"db.pl\")"
      ],
      "execution_count": null,
      "outputs": []
    },
    {
      "cell_type": "markdown",
      "source": [
        "####Σχολιασμός\n",
        "Το movie dataset, αποτελείται από 26 attributes και 4801 entries. Τα κατηγορήματα που δημιουργούμε με βάση το τι θα μας φανεί χρήσιμο στη συνέχεια είναι: το genre(Movie, Genre), το director(Movie, Director), plotKeywords(Movie, PlotKeyword), colour(Movie, Colour), language(Movie, Language), releaseYear(Movie, ReleaseYear), studio(Movie, Studio), country(Movie, Country), actor(Movie, Actor).\n",
        "Το αν η ταινία είναι έγχρωμη ή όχι το βρίσκουμε μέσα από τα plot_keywords, καθώς οι ασπρόμαυρες ταινίες έχουν ως plot_keyword το sting: ‘black and white’. Αν μια ταινία δεν το έχει τότε τη θεωρούμε έγχρωμη.\n",
        "Για να βρούμε τα studio κάθε ταινίας, χωρίζουμε το attribute ‘production companies’ σε strings που χωρίζονται μεταξύ τους με τον χαρακτήρα “ ’ ” . Παρατηρούμε ότι τα ονόματα των studio βρίσκονται στις θέσεις 4, 10, 16, 22,... έτσι αρχικοποιούμε το prev στην τιμή -2, και όταν το τωρινό Index - prev = 6 προσθέτουμε το όνομα του studio στο κατηγόρημα και Prev=τωρινό index. \n"
      ],
      "metadata": {
        "id": "wh7AckGCEo7C"
      }
    },
    {
      "cell_type": "markdown",
      "metadata": {
        "id": "kMT4wnFze-rJ"
      },
      "source": [
        "####Μέρος 1β"
      ]
    },
    {
      "cell_type": "code",
      "metadata": {
        "id": "XBvoTiEfECvX"
      },
      "source": [
        "#1.-3. κοινό θέμα κλίμακα 5 - 1\n",
        "prolog.assertz('''(similar_genre_5(X, Y):-\n",
        "                                        genre(X,G1), genre(X,G2), genre(X,G3), genre(X,G4), genre(X,G5),\n",
        "                                        genre(Y,G1), genre(Y,G2), genre(Y,G3), genre(Y,G4), genre(Y,G5),\n",
        "                                        X \\= Y, G1 \\= G2, G1 \\= G3, G1 \\= G4, G1 \\= G5, G2 \\= G3, G2 \\= G4, G2 \\= G5, G3 \\= G4, G3 \\= G5, G4 \\= G5 )''')\n",
        "\n",
        "prolog.assertz('''(similar_genre_4(X, Y):-\n",
        "                                        genre(X,G1), genre(X,G2), genre(X,G3), genre(X,G4), \n",
        "                                        genre(Y,G1), genre(Y,G2), genre(Y,G3), genre(Y,G4), \n",
        "                                        X \\= Y, G1 \\= G2, G1 \\= G3, G1 \\= G4, G2 \\= G3, G2 \\= G4, G3 \\= G4)''')\n",
        "\n",
        "prolog.assertz('''(similar_genre_3(X, Y):-\n",
        "                                        genre(X,G1), genre(X,G2), genre(X,G3), \n",
        "                                        genre(Y,G1), genre(Y,G2), genre(Y,G3),\n",
        "                                        X \\= Y, G1 \\= G2, G1 \\= G3, G2 \\= G3)''')\n",
        "\n",
        "prolog.assertz('''(similar_genre_2(X, Y):-\n",
        "                                        genre(X,G1), genre(X,G2),\n",
        "                                        genre(Y,G1), genre(Y,G2),\n",
        "                                        X \\= Y, G1 \\= G2)''')\n",
        "\n",
        "prolog.assertz('(similar_genre_1(X, Y):- genre(X,G1), genre(Y,G1), X \\= Y)')"
      ],
      "execution_count": null,
      "outputs": []
    },
    {
      "cell_type": "code",
      "metadata": {
        "id": "F7HB3ypOLTAs"
      },
      "source": [
        "#4. κοινός σκηνοθέτης\n",
        "prolog.assertz('(common_director(X, Y):- director(X,D), director(Y,D), X \\= Y)')"
      ],
      "execution_count": null,
      "outputs": []
    },
    {
      "cell_type": "code",
      "metadata": {
        "id": "xMRnwQDmLk_G"
      },
      "source": [
        "#5.-6. κοινή πλοκή κλίμακα 5 - 1\n",
        "prolog.assertz('''(similar_plot_5(X, Y):-\n",
        "                                        plotKeyWord(X,G1), plotKeyWord(X,G2), plotKeyWord(X,G3), plotKeyWord(X,G4), plotKeyWord(X,G5),\n",
        "                                        plotKeyWord(Y,G1), plotKeyWord(Y,G2), plotKeyWord(Y,G3), plotKeyWord(Y,G4), plotKeyWord(Y,G5),\n",
        "                                        X \\= Y, G1 \\= G2, G1 \\= G3, G1 \\= G4, G1 \\= G5, G2 \\= G3, G2 \\= G4, G2 \\= G5, G3 \\= G4, G3 \\= G5, G4 \\= G5 )''')\n",
        "\n",
        "prolog.assertz('''(similar_plot_4(X, Y):-\n",
        "                                        plotKeyWord(X,G1), plotKeyWord(X,G2), plotKeyWord(X,G3), plotKeyWord(X,G4), \n",
        "                                        plotKeyWord(Y,G1), plotKeyWord(Y,G2), plotKeyWord(Y,G3), plotKeyWord(Y,G4), \n",
        "                                        X \\= Y, G1 \\= G2, G1 \\= G3, G1 \\= G4, G2 \\= G3, G2 \\= G4, G3 \\= G4)''')\n",
        "\n",
        "prolog.assertz('''(similar_plot_3(X, Y):-\n",
        "                                        plotKeyWord(X,G1), plotKeyWord(X,G2), plotKeyWord(X,G3), \n",
        "                                        plotKeyWord(Y,G1), plotKeyWord(Y,G2), plotKeyWord(Y,G3),\n",
        "                                        X \\= Y, G1 \\= G2, G1 \\= G3, G2 \\= G3)''')\n",
        "\n",
        "prolog.assertz('''(similar_plot_2(X, Y):-\n",
        "                                        plotKeyWord(X,G1), plotKeyWord(X,G2),\n",
        "                                        plotKeyWord(Y,G1), plotKeyWord(Y,G2),\n",
        "                                        X \\= Y, G1 \\= G2)''')\n",
        "\n",
        "prolog.assertz('(similar_plot_1(X, Y):- plotKeyWord(X,G1), plotKeyWord(Y,G1), X \\= Y)')"
      ],
      "execution_count": null,
      "outputs": []
    },
    {
      "cell_type": "code",
      "metadata": {
        "id": "v-Dp32c0MfxZ"
      },
      "source": [
        "#7.-9. κοινοί ηθοποιοί 3 - 1\n",
        "prolog.assertz('''(common_actors_3(X, Y):-\n",
        "                                        actor(X,A1), actor(X,A2), actor(X,A3), \n",
        "                                        actor(Y,A1), actor(Y,A2), actor(Y,A3),\n",
        "                                        X \\= Y, A1 \\= A2, A1 \\= A3, A2 \\= A3)''')\n",
        "\n",
        "prolog.assertz('''(common_actors_2(X, Y):-\n",
        "                                        actor(X,A1), actor(X,A2),\n",
        "                                        actor(Y,A1), actor(Y,A2),\n",
        "                                        X \\= Y, A1 \\= A2)''')\n",
        "\n",
        "prolog.assertz('(common_actors_1(X, Y):- actor(X,A1), actor(Y,A1), X \\= Y)')"
      ],
      "execution_count": null,
      "outputs": []
    },
    {
      "cell_type": "code",
      "metadata": {
        "id": "NvBIttfoN00A"
      },
      "source": [
        "#10. κοινή γλώσσα\n",
        "prolog.assertz('(common_language(X, Y):- language(X,L), language(Y,L), X \\= Y)')"
      ],
      "execution_count": null,
      "outputs": []
    },
    {
      "cell_type": "code",
      "metadata": {
        "id": "YVadDWK_OD0J"
      },
      "source": [
        "#11. έγχρωμες ή ασπρόμαυρες\n",
        "prolog.assertz('(common_colour(X, Y):- colour(X,C), colour(Y,C), X \\= Y)')"
      ],
      "execution_count": null,
      "outputs": []
    },
    {
      "cell_type": "code",
      "metadata": {
        "id": "Fb5VWI9UR5Ey"
      },
      "source": [
        "#12. κοινό studio παραγωγής\n",
        "prolog.assertz('(common_studio(X, Y):- production(X,S), production(Y,S), X \\= Y)')"
      ],
      "execution_count": null,
      "outputs": []
    },
    {
      "cell_type": "code",
      "metadata": {
        "id": "rnRNAVj7R-_1"
      },
      "source": [
        "#13. κοινή χώρα παραγωγής\n",
        "prolog.assertz('(common_country(X, Y):- country(X,C), country(Y,C), X \\= Y)')"
      ],
      "execution_count": null,
      "outputs": []
    },
    {
      "cell_type": "code",
      "metadata": {
        "id": "W-nZGNxoWJnp"
      },
      "source": [
        "#14. Ίδια δεκαετία\n",
        "prolog.assertz('''(common_decade(X, Y):- releaseYear(X,Y1), releaseYear(Y,Y2), \n",
        "                  X \\= Y, atom_number(Y1, NY1), atom_number(Y2,NY2), IntY1 is integer(NY1), IntY2 is integer(NY2),\n",
        "                  DY1 is IntY1//10, DY2 is IntY2//10, DY1==DY2)''')"
      ],
      "execution_count": null,
      "outputs": []
    },
    {
      "cell_type": "code",
      "metadata": {
        "id": "J6UAbN0YiXRw"
      },
      "source": [
        "#ίδια διάρκεια\n",
        "prolog.assertz('(common_duration(X, Y):- duration(X,T), duration(Y,T), X \\= Y)')"
      ],
      "execution_count": null,
      "outputs": []
    },
    {
      "cell_type": "markdown",
      "source": [
        "####Σχολιασμός\n",
        "Για τα genres και την πλοκή έχουμε φτιάξει κανόνες κλιμάκωσης από 1 μέχρι 5, ώστε να μπορούμε να έχουμε καλύτερη κλιμάκωση στο simple_recommender που θα δημιουργήσουμε στη συνέχεια.\n",
        "Για τον κανόνα της ίδια δεκαετίας, διαιρούμε την χρονιά που κυκλοφόρησε η ταινία με το 10 (ακαίραια διαίρεση) ώστε να μας μείνουν μόνο τα 3 ψηφία που ορίζουν μια δεκαετία (πχ για το 2021 μένουν τα 202)."
      ],
      "metadata": {
        "id": "EnNtf5VFEySL"
      }
    },
    {
      "cell_type": "code",
      "metadata": {
        "id": "p7j4oJJaEDXD",
        "colab": {
          "base_uri": "https://localhost:8080/"
        },
        "outputId": "43572b61-3531-4a73-d040-6e972f8b4d55"
      },
      "source": [
        "# example\n",
        "queries = [\"similar_genre_5('\",\"similar_genre_4('\",\"similar_genre_3('\",\"similar_genre_2('\",\"similar_genre_1('\", \"common_director('\",\n",
        "      \"similar_plot_5('\",\"similar_plot_4('\",\"similar_plot_3('\",\"similar_plot_2('\",\"similar_plot_1('\",\"common_actors_3('\",\"common_actors_2('\",\n",
        "      \"common_actors_1('\",\"common_language('\", \"common_colour('\", \"common_studio('\",\"common_country('\", \"common_decade('\", \"common_duration('\"]\n",
        "def TEST(movie):\n",
        "  for q in queries: \n",
        "    querry = prolog.query(q + movie +\"',Y)\")\n",
        "    s = set()\n",
        "    for soln in querry:\n",
        "        s.add(soln[\"Y\"])\n",
        "    print(q.split(\"(\")[0],list(set(s))[:40])\n",
        "  return\n",
        "  \n",
        "print('Frankenweenie\\n') \n",
        "TEST(\"Frankenweenie\")\n",
        "print('\\nPirates of the Caribbean: The Curse of the Black Pearl\\n')\n",
        "TEST(\"Pirates of the Caribbean: The Curse of the Black Pearl\")"
      ],
      "execution_count": null,
      "outputs": [
        {
          "output_type": "stream",
          "name": "stdout",
          "text": [
            "Frankenweenie\n",
            "\n",
            "similar_genre_5 []\n",
            "similar_genre_4 []\n",
            "similar_genre_3 ['Cloudy with a Chance of Meatballs 2', 'Happily NEver After', 'Big Hero 6', 'Hotel Transylvania', 'Free Birds', 'Ice Age: Continental Drift', 'Rio', 'VeggieTales: The Pirates Who Dont Do Anything', 'Despicable Me 2', 'A Bugs Life', 'Curious George', 'Megamind', 'The Ant Bully', 'Garfield: A Tail of Two Kitties', 'TMNT', 'Up', 'The Emperors New Groove', 'Rango', 'Alvin and the Chipmunks: The Squeakquel', 'Kung Fu Panda 3', 'The Boxtrolls', 'Dougs 1st Movie', 'Garfield', 'Shrek', 'Cats Dont Dance', 'Ice Age: The Meltdown', 'Foodfight!', 'The Smurfs', 'Antz', 'Monsters, Inc.', 'Hop', 'Toy Story 2', 'Surfs Up', 'Penguins of Madagascar', 'Aladdin', 'Legend of a Rabbit', 'The Nut Job', 'Monster House', 'Fantastic Mr. Fox', 'Home']\n",
            "similar_genre_2 ['Are We There Yet?', 'Happily NEver After', 'Unaccompanied Minors', 'Curious George', 'Mr. Beans Holiday', 'My Girl', 'A Turtles Tale: Sammys Adventures', 'Back to the Future', 'The Ant Bully', 'Charlottes Web', 'Atlantis: The Lost Empire', 'Up', 'Elf', 'The Emperors New Groove', 'Inspector Gadget', 'Alvin and the Chipmunks: The Squeakquel', 'The Rugrats Movie', 'Dr. Dolittle 2', 'Hotel for Dogs', 'Garfield', 'Spaced Invaders', 'Growing Up Smith', 'Pinocchio', 'Antz', 'Quest for Camelot', 'Diary of a Wimpy Kid: Dog Days', 'Hop', 'The Borrowers', 'Snow Dogs', 'Space Chimps', 'Arthur and the Invisibles', 'St. Trinians', 'Just My Luck', 'Penguins of Madagascar', 'Like Mike', 'G-Force', 'Dragon Hunters', 'The Pink Panther', 'The Muppet Movie', 'Kung Fu Panda']\n",
            "similar_genre_1 ['Did You Hear About the Morgans?', 'Bridesmaids', 'Club Dread', 'Are We There Yet?', 'Not Another Teen Movie', 'Unaccompanied Minors', 'The House Bunny', 'The Snow Queen', 'Dwegons', 'Duma', 'Celeste & Jesse Forever', 'Lonesome Jim', 'Woo', 'I Can Do Bad All By Myself', 'A Turtles Tale: Sammys Adventures', 'New in Town', 'Bullets Over Broadway', 'In the Land of Women', 'Burn After Reading', 'Pitch Perfect 2', 'Without a Paddle', 'Drop Dead Gorgeous', 'Home for the Holidays', 'Whatever Works', 'American Splendor', 'The Emperors New Groove', 'Alvin and the Chipmunks: The Squeakquel', 'The Rugrats Movie', 'Dr. Dolittle 2', 'Super', 'E.T. the Extra-Terrestrial', 'The White Countess', 'The Wood', 'Bubba Ho-tep', 'Young Sherlock Holmes', 'Diary of a Mad Black Woman', 'The Wolf of Wall Street', 'Antz', 'Dude Wheres My Dog?', 'Beverly Hills Cop II']\n",
            "common_director ['Big Eyes', 'Charlie and the Chocolate Factory', 'Alice in Wonderland', 'Ed Wood', 'Planet of the Apes', 'Corpse Bride', 'Mars Attacks!', 'Big Fish', 'Batman Returns', 'Batman', 'Dark Shadows', 'Beetlejuice', 'Edward Scissorhands']\n",
            "similar_plot_5 []\n",
            "similar_plot_4 []\n",
            "similar_plot_3 []\n",
            "similar_plot_2 ['Corpse Bride', 'The Curse of the Were-Rabbit']\n",
            "similar_plot_1 ['The Way Way Back', 'A Lot Like Love', 'Babe: Pig in the City', 'Mr. Peabody & Sherman', 'Flipped', 'Cape Fear', 'Wonder Boys', 'Marley & Me', 'Mad Max 2: The Road Warrior', 'My Dog Skip', 'Scooby-Doo 2: Monsters Unleashed', 'The Secret Life of Pets', 'The Shaggy Dog', 'See Spot Run', 'Benji', 'The Triplets of Belleville', 'The Revenant', 'Amélie', 'My Dog Tulip', 'Cabin Fever', 'The Boxtrolls', 'Hotel for Dogs', 'Red Dog', 'The Dog Lover', 'Zero Dark Thirty', 'White Fang', 'The Pirates! In an Adventure with Scientists!', 'Space Dogs', 'Daylight', 'Project X', 'Click', 'Dawn of the Dead', 'Lilo & Stitch', 'Hope Floats', 'Come Early Morning', 'Punch-Drunk Love', 'The Hitchhikers Guide to the Galaxy', 'Funny Games', 'Max', 'The Artist']\n",
            "common_actors_3 []\n",
            "common_actors_2 []\n",
            "common_actors_1 ['Waiting for Guffman', 'Home Fries', 'Best in Show', 'Killers', 'Home Alone 2: Lost in New York', 'Ed Wood', 'The Majestic', 'Away We Go', '9']\n",
            "common_language ['The Green Inferno', 'Independence Day', 'Are We There Yet?', 'Everest', 'A Streetcar Named Desire', 'Maze Runner: The Scorch Trials', 'Sex, Lies, and Videotape', 'The Twilight Saga: Eclipse', 'Celeste & Jesse Forever', 'Good', 'Armageddon', 'Starship Troopers', 'Nine Dead', 'In the Land of Women', 'Echo Dr.', 'George and the Dragon', 'Snowpiercer', 'Drop Dead Gorgeous', 'Alvin and the Chipmunks: The Squeakquel', 'The Rugrats Movie', 'Dreamgirls', 'The White Countess', 'Frequency', 'Pollock', 'Young Sherlock Holmes', 'The Wrestler', 'Killers', 'The Sting', 'The River Wild', 'Dope', 'The House of Mirth', 'Iron Man', 'Deadline - U.S.A.', 'American Pie', 'Rio 2', 'The Spirit', 'The Lost World: Jurassic Park', 'Fear and Loathing in Las Vegas', 'The Game of Their Lives', 'Ice Age']\n",
            "common_colour ['Creative Control', 'The Giver', 'The Phantom of the Opera', 'Renaissance', 'Frances Ha']\n",
            "common_studio ['Big Eyes', 'Charlie and the Chocolate Factory', 'Alice in Wonderland', 'Abraham Lincoln: Vampire Hunter', 'Alice Through the Looking Glass', 'Planet of the Apes', 'Corpse Bride', 'Mars Attacks!', '9', 'Dark Shadows', 'Big Fish']\n",
            "common_country ['Club Dread', 'Are We There Yet?', 'Independence Day', 'Not Another Teen Movie', 'Rosemarys Baby', 'A Streetcar Named Desire', 'Cloverfield', 'Maze Runner: The Scorch Trials', 'Sex, Lies, and Videotape', 'Die Hard: With a Vengeance', 'The Twilight Saga: Eclipse', 'Celeste & Jesse Forever', 'Woo', 'Armageddon', 'Starship Troopers', 'Nine Dead', 'In the Land of Women', 'Echo Dr.', 'Without a Paddle', 'Drop Dead Gorgeous', 'Home for the Holidays', 'American Splendor', 'Alvin and the Chipmunks: The Squeakquel', 'The Rugrats Movie', 'Dreamgirls', 'Frequency', 'Pollock', 'Young Sherlock Holmes', 'The Wrestler', 'Beverly Hills Cop II', 'Killers', 'The Sting', 'The River Wild', 'The Lost Weekend', 'Give Me Shelter', 'Pirates of the Caribbean: At Worlds End', 'Talladega Nights: The Ballad of Ricky Bobby', 'Dead Man Walking', 'Ace Ventura: When Nature Calls', 'Whats Your Number?']\n",
            "common_decade ['The Green Inferno', 'Bridesmaids', 'Everest', 'The Snow Queen', 'Maze Runner: The Scorch Trials', 'Dwegons', 'The Twilight Saga: Eclipse', 'Celeste & Jesse Forever', 'A Most Wanted Man', 'Before I Go to Sleep', 'A Turtles Tale: Sammys Adventures', 'Pitch Perfect 2', 'Nine Dead', 'Echo Dr.', 'Snowpiercer', 'The Grey', 'Super', 'Fair Game', 'Paranormal Activity 4', 'Dude Wheres My Dog?', 'The Wolf of Wall Street', 'Elza', 'Killers', 'No Escape', 'Take Me Home Tonight', 'Give Me Shelter', 'Whats Your Number?', 'Dope', 'Roadside', 'Max', 'Shouldve Been Romeo', 'Paper Towns', 'The 5th Quarter', 'Good Kill', 'Rio 2', 'Ida', 'The Past Is a Grotesque Animal', 'Good Deeds', 'The Host', 'Cars 2']\n",
            "common_duration ['Transporter 2', 'A Beginners Guide to Snuff', 'The Young Unknowns', 'A Haunted House 2', 'Dead Like Me: Life After Death', 'Friday the 13th Part 2', 'Bachelorette', 'Childs Play', 'Fetching Cody', 'Circle', 'Detention of the Dead', 'Dr. Dolittle 2', 'Supporting Characters', 'The Barbarians', 'Highlander: Endgame', 'The Replacement Killers', 'Modern Times', 'Ultraviolet', 'Foodfight!', 'Cats & Dogs', 'Walking With Dinosaurs', 'Jackass: The Movie', 'High Road', 'Fun Size', 'Proud', 'Fantastic Mr. Fox', 'Walter', 'Deadline - U.S.A.', '2016: Obamas America', 'Everything Put Together', 'Jekyll and Hyde ... Together Again', 'The Lion of Judah', 'Strange Wilderness', 'Loves Abiding Joy', 'The Simpsons Movie', 'The Big Tease', 'Cedar Rapids', 'Seed of Chucky', 'The Secret Life of Pets', 'Disaster Movie']\n",
            "\n",
            "Pirates of the Caribbean: The Curse of the Black Pearl\n",
            "\n",
            "similar_genre_5 []\n",
            "similar_genre_4 []\n",
            "similar_genre_3 ['Pokémon: Spell of the Unknown', 'The Lord of the Rings: The Return of the King', 'Pirates of the Caribbean: Dead Mans Chest', 'Small Soldiers', 'The Lord of the Rings: The Two Towers', 'Monkeybone', 'The Fifth Element', 'Maleficent', 'Spider-Man 3', 'Mystery Men', 'Superman Returns', 'Prince of Persia: The Sands of Time', 'Pirates of the Caribbean: On Stranger Tides', 'Thor: The Dark World', 'The Shadow', 'Night at the Museum', 'The Last Witch Hunter', 'Lara Croft Tomb Raider: The Cradle of Life', 'Warcraft', 'The Brothers Grimm', 'Night at the Museum: Battle of the Smithsonian', 'Fantastic 4: Rise of the Silver Surfer', 'The Hobbit: An Unexpected Journey', 'Krull', 'The 13th Warrior', 'BloodRayne', 'The Borrowers', 'Red Sonja', 'Pirates of the Caribbean: At Worlds End', 'Spawn', 'The Amazing Spider-Man 2', 'Conan the Destroyer', '47 Ronin', 'Superman III', 'G-Force', 'The Warriors Way', 'Puss in Boots', 'In the Name of the King III', 'The Wolverine', 'Spider-Man 2']\n",
            "similar_genre_2 ['The Green Inferno', 'Independence Day', 'O Brother, Where Art Thou?', 'Lucky Numbers', 'The Fifth Element', 'The Twilight Saga: Eclipse', 'Armageddon', 'Starship Troopers', 'Tomorrow Never Dies', 'The Ant Bully', 'Without a Paddle', 'The Emperors New Groove', 'The Shadow', 'National Treasure', 'Rambo III', 'The Empire Strikes Back', 'Arn: The Knight Templar', 'E.T. the Extra-Terrestrial', 'Young Sherlock Holmes', 'BloodRayne', 'Timeline', 'The Borrowers', 'The River Wild', 'Pirates of the Caribbean: At Worlds End', '47 Ronin', 'G-Force', 'Iron Man', 'Men in Black II', 'In the Name of the King III', 'March or Die', 'Star Trek II: The Wrath of Khan', 'Predators', 'The Host', 'The Man with the Golden Gun', 'Flight of the Intruder', 'The Lost World: Jurassic Park', 'Paul Blart: Mall Cop', 'Quigley Down Under', 'Tango & Cash', 'Thunderball']\n",
            "similar_genre_1 ['The Green Inferno', 'Independence Day', 'Are We There Yet?', 'Return to the Blue Lagoon', 'Dances with Wolves', 'Everest', 'The Snow Queen', 'Cloverfield', 'Maze Runner: The Scorch Trials', 'Duma', 'Species', 'Die Hard: With a Vengeance', 'The Twilight Saga: Eclipse', 'Armageddon', 'Starship Troopers', 'Bullets Over Broadway', 'Echo Dr.', 'Snowpiercer', 'George and the Dragon', 'Without a Paddle', 'Tomorrow Never Dies', 'The Emperors New Groove', 'Alvin and the Chipmunks: The Squeakquel', 'Kiss of the Dragon', 'The Shadow', 'Dr. Dolittle 2', 'The Grey', 'Super', 'E.T. the Extra-Terrestrial', 'Bubba Ho-tep', 'Young Sherlock Holmes', 'Antz', 'Beverly Hills Cop II', 'Killers', 'No Escape', 'The Borrowers', 'Duplex', 'The River Wild', 'Pirates of the Caribbean: At Worlds End', 'Ace Ventura: When Nature Calls']\n",
            "common_director ['Pirates of the Caribbean: At Worlds End', 'The Mexican', 'The Weather Man', 'Pirates of the Caribbean: Dead Mans Chest', 'The Lone Ranger', 'Rango']\n",
            "similar_plot_5 ['Pirates of the Caribbean: Dead Mans Chest', 'Pirates of the Caribbean: At Worlds End']\n",
            "similar_plot_4 ['Pirates of the Caribbean: Dead Mans Chest', 'Pirates of the Caribbean: At Worlds End', 'Pirates of the Caribbean: On Stranger Tides']\n",
            "similar_plot_3 ['Pirates of the Caribbean: On Stranger Tides', 'Pirates of the Caribbean: At Worlds End', 'Nims Island', 'The Man with the Golden Gun', 'Pirates of the Caribbean: Dead Mans Chest']\n",
            "similar_plot_2 ['The Pirates! In an Adventure with Scientists!', 'The Bounty', 'Cutthroat Island', 'Kill Bill: Vol. 2', 'Pirates of the Caribbean: Dead Mans Chest', 'Austin Powers: The Spy Who Shagged Me', 'VeggieTales: The Pirates Who Dont Do Anything', 'On Her Majestys Secret Service', 'Pirates of the Caribbean: At Worlds End', 'Nims Island', 'Anna and the King', 'Live and Let Die', 'DodgeBall: A True Underdog Story', 'Pirates of the Caribbean: On Stranger Tides', 'Dr. No', 'The Man with the Golden Gun', 'The Croods']\n",
            "similar_plot_1 ['Not Another Teen Movie', 'Ghost Rider: Spirit of Vengeance', 'Pirates of the Caribbean: Dead Mans Chest', 'Gone with the Wind', 'There Will Be Blood', 'Jeepers Creepers', 'Cloverfield', 'Stealth', 'Die Hard: With a Vengeance', 'A Nightmare on Elm Street 4: The Dream Master', 'Mr. Beans Holiday', 'Armageddon', 'Doctor Zhivago', 'Thor: The Dark World', 'Alvin and the Chipmunks: The Squeakquel', 'The Rugrats Movie', 'Red State', 'Dreamgirls', 'The Grey', 'Supporting Characters', 'The Lost Skeleton of Cadavra', 'Young Sherlock Holmes', 'The Curse of Downers Grove', 'Paranormal Activity 4', 'Jurassic Park', 'Central Station', 'The Wrestler', 'Elza', 'Austin Powers: The Spy Who Shagged Me', 'Hop', 'Jaws: The Revenge', 'Space Chimps', 'The Lost Weekend', 'Talladega Nights: The Ballad of Ricky Bobby', 'Pirates of the Caribbean: At Worlds End', 'White Squall', 'Cop Out', 'The Muppet Movie', 'Iron Man', 'Kung Fu Panda']\n",
            "common_actors_3 []\n",
            "common_actors_2 ['Pirates of the Caribbean: Dead Mans Chest', 'Pirates of the Caribbean: At Worlds End']\n",
            "common_actors_1 ['Bend It Like Beckham', 'Elizabeth', 'Pirates of the Caribbean: Dead Mans Chest', 'Bran Nue Dae', 'The Imitation Game', 'Pirates of the Caribbean: At Worlds End', 'Mystery Men', 'The Warriors Way', 'Elizabeth: The Golden Age', 'Troy', 'Begin Again', 'The Banger Sisters', 'The Kings Speech', 'Never Let Me Go', 'Seeking a Friend for the End of the World', 'Shakespeare in Love', 'The Three Musketeers', 'The Jacket', 'The Tailor of Panama', 'Jack Ryan: Shadow Recruit', 'The Lord of the Rings: The Fellowship of the Ring', 'Intolerable Cruelty']\n",
            "common_language ['The Green Inferno', 'Independence Day', 'Are We There Yet?', 'Everest', 'A Streetcar Named Desire', 'Maze Runner: The Scorch Trials', 'Sex, Lies, and Videotape', 'The Twilight Saga: Eclipse', 'Celeste & Jesse Forever', 'Good', 'Armageddon', 'Starship Troopers', 'Nine Dead', 'In the Land of Women', 'Echo Dr.', 'George and the Dragon', 'Snowpiercer', 'Drop Dead Gorgeous', 'Alvin and the Chipmunks: The Squeakquel', 'The Rugrats Movie', 'Dreamgirls', 'The White Countess', 'Frequency', 'Pollock', 'Young Sherlock Holmes', 'The Wrestler', 'Killers', 'The Sting', 'The River Wild', 'Dope', 'The House of Mirth', 'Iron Man', 'Deadline - U.S.A.', 'American Pie', 'Rio 2', 'The Spirit', 'The Lost World: Jurassic Park', 'Fear and Loathing in Las Vegas', 'The Game of Their Lives', 'Ice Age']\n",
            "common_colour ['The Green Inferno', 'Independence Day', 'Are We There Yet?', 'Everest', 'A Streetcar Named Desire', 'Maze Runner: The Scorch Trials', 'Sex, Lies, and Videotape', 'The Twilight Saga: Eclipse', 'Celeste & Jesse Forever', 'Good', 'Armageddon', 'Starship Troopers', 'Nine Dead', 'In the Land of Women', 'Echo Dr.', 'George and the Dragon', 'Snowpiercer', 'Drop Dead Gorgeous', 'Sparkler', 'Alvin and the Chipmunks: The Squeakquel', 'The Rugrats Movie', 'Dreamgirls', 'The White Countess', 'Frequency', 'Pollock', 'Young Sherlock Holmes', 'The Wrestler', 'Killers', 'The Sting', 'The River Wild', 'Dope', 'The House of Mirth', 'Iron Man', 'Deadline - U.S.A.', 'Love Stinks', 'American Pie', 'Rio 2', 'The Man with the Golden Gun', 'The Spirit', 'The Lost World: Jurassic Park']\n",
            "common_studio ['Shipwrecked', 'Return to Never Land', 'Big Hero 6', 'WALL·E', 'Pirates of the Caribbean: Dead Mans Chest', 'Freaky Friday', 'My Favorite Martian', 'Flubber', 'A Bugs Life', 'High School Musical 3: Senior Year', 'The Jungle Book', 'Black Hawk Down', 'Maleficent', 'Prom', 'Armageddon', 'Hocus Pocus', 'Prince of Persia: The Sands of Time', 'Pirates of the Caribbean: On Stranger Tides', 'The Good Dinosaur', 'The Shaggy Dog', 'The Jungle Book 2', 'Atlantis: The Lost Empire', 'Pocahontas', 'Ice Princess', 'The BFG', 'Inspector Gadget', 'The Emperors New Groove', 'National Treasure', 'Deliver Us from Evil', 'Dougs 1st Movie', 'Fantasia 2000', 'Frozen', 'The Lone Ranger', 'John Carter', 'TRON: Legacy', 'Gone in Sixty Seconds', 'Monsters, Inc.', 'Teachers Pet', 'Alice in Wonderland', 'Alice Through the Looking Glass']\n",
            "common_country ['Club Dread', 'Are We There Yet?', 'Independence Day', 'Not Another Teen Movie', 'Rosemarys Baby', 'A Streetcar Named Desire', 'Cloverfield', 'Maze Runner: The Scorch Trials', 'Sex, Lies, and Videotape', 'Die Hard: With a Vengeance', 'The Twilight Saga: Eclipse', 'Celeste & Jesse Forever', 'Woo', 'Armageddon', 'Starship Troopers', 'Nine Dead', 'In the Land of Women', 'Echo Dr.', 'Without a Paddle', 'Drop Dead Gorgeous', 'Home for the Holidays', 'American Splendor', 'Alvin and the Chipmunks: The Squeakquel', 'The Rugrats Movie', 'Dreamgirls', 'Frequency', 'Pollock', 'Young Sherlock Holmes', 'The Wrestler', 'Beverly Hills Cop II', 'Killers', 'The Sting', 'The River Wild', 'The Lost Weekend', 'Give Me Shelter', 'Pirates of the Caribbean: At Worlds End', 'Talladega Nights: The Ballad of Ricky Bobby', 'Dead Man Walking', 'Ace Ventura: When Nature Calls', 'Whats Your Number?']\n",
            "common_decade ['The Namesake', 'Did You Hear About the Morgans?', 'Dark Water', 'Club Dread', 'Are We There Yet?', 'Not Another Teen Movie', 'Unaccompanied Minors', 'The House Bunny', 'Kinsey', 'Cloverfield', 'Boiler Room', 'Duma', '28 Weeks Later', 'Doubt', 'Fahrenheit 9/11', 'Lonesome Jim', 'Good', 'I Can Do Bad All By Myself', 'Burn After Reading', 'New in Town', 'Elizabeth: The Golden Age', 'In the Land of Women', 'Black Christmas', 'George and the Dragon', 'Without a Paddle', 'Whatever Works', 'American Splendor', 'The Emperors New Groove', 'Alvin and the Chipmunks: The Squeakquel', 'Kiss of the Dragon', 'Dr. Dolittle 2', 'Dreamgirls', 'The White Countess', 'Frequency', 'Bubba Ho-tep', 'Pollock', 'Diary of a Mad Black Woman', 'The Wrestler', 'Duplex', 'Talladega Nights: The Ballad of Ricky Bobby']\n",
            "common_duration ['Blood Diamond', 'Superman', 'The Avengers', 'The Phantom of the Opera', 'The Chronicles of Narnia: The Lion, the Witch and the Wardrobe', 'Skyfall', 'Cast Away', 'Topaz', 'Man of Steel', 'The Great Gatsby', 'Babel', 'Primary Colors', 'Robin Hood: Prince of Thieves']\n"
          ]
        }
      ]
    },
    {
      "cell_type": "code",
      "metadata": {
        "id": "xkOdjzZcskfa",
        "colab": {
          "base_uri": "https://localhost:8080/"
        },
        "outputId": "d6b4f0e4-6981-425b-cbcc-eb85b3006b10"
      },
      "source": [
        "def get_num_of_genres(movie):\n",
        "  q = prolog.query(\"genre('\" + movie +\"',Y)\")\n",
        "  s = set()\n",
        "  for soln in q:\n",
        "    m = soln['Y'] \n",
        "    if m not in s:\n",
        "      s.add(soln['Y'])\n",
        "  return len(s)\n",
        "\n",
        "print(get_num_of_genres('Home Alone'))"
      ],
      "execution_count": null,
      "outputs": [
        {
          "output_type": "stream",
          "name": "stdout",
          "text": [
            "2 10\n"
          ]
        }
      ]
    },
    {
      "cell_type": "markdown",
      "metadata": {
        "id": "ibe9jBk24rUd"
      },
      "source": [
        "# **2ο Μέρος: Recommendation System με βάση μόνο τα χαρακτηριστικά των ταινιών.**\n",
        "\n",
        "Στο σημείο αυτό με βάση τους κανόνες που κατασκευάστηκαν στο Μέρος 1 θα κατασκευαστούν κατηγορήματα για την ομοιότητα ταινιών. Παρακάτω δίνεται ένα μικρό παράδειγμα ενός κανόνα και πώς αυτός θα μπορούσε να γραφτεί μέσω του Pyswip. Επίσης όπως αναφέρεται και σε σχόλιο παραπάνω θα μπορεί να γραφτεί και μια βάση δεδομένων με τους κανόνες και να γίνει απευθείας consult.\n",
        "\n",
        "Στο παρακάτω παράδειγμα το 5 και το 4 εκφράζουν την ομοιότητα των ταινιών π.χ. οι ταινίες που παράγονται μέσω του find_similar_5 είναι πιο όμοιες από αυτές που παράγονται μέσω του find_similar_4. \n"
      ]
    },
    {
      "cell_type": "code",
      "metadata": {
        "id": "cIhlkaymlRUf"
      },
      "source": [
        "prolog.assertz('''(find_sim_5(X, Y, G):- G ==5, similar_genre_5(X,Y), similar_plot_5(X,Y), common_director(X,Y), common_actors_1(X,Y), common_language(X,Y), common_colour(X,Y), (common_studio(X,Y); common_decade(X,Y)))''')\n",
        "prolog.assertz('''(find_sim_5(X, Y, G):- G ==4, similar_genre_4(X,Y), similar_plot_5(X,Y), common_director(X,Y), common_actors_1(X,Y), common_language(X,Y), common_colour(X,Y), (common_studio(X,Y); common_decade(X,Y)))''')\n",
        "prolog.assertz('''(find_sim_5(X, Y, G):- G ==3, similar_genre_3(X,Y), similar_plot_5(X,Y), common_director(X,Y), common_actors_1(X,Y), common_language(X,Y), common_colour(X,Y), (common_studio(X,Y); common_decade(X,Y)))''')\n",
        "\n",
        "prolog.assertz('''(find_sim_4(X, Y, G):- G==4, similar_genre_4(X,Y), similar_plot_4(X,Y), common_language(X,Y), common_colour(X,Y))''')\n",
        "prolog.assertz('''(find_sim_4(X, Y, G):- G==3, similar_genre_3(X,Y), similar_plot_4(X,Y), common_language(X,Y), common_colour(X,Y))''')\n",
        "prolog.assertz('''(find_sim_4(X, Y, G):- G==2, similar_genre_2(X,Y), similar_plot_4(X,Y), common_language(X,Y), common_colour(X,Y))''')\n",
        "\n",
        "prolog.assertz('''(find_sim_3(X, Y, G):- G==3, similar_genre_3(X,Y), similar_plot_3(X,Y), common_language(X,Y), common_colour(X,Y);\n",
        "                                         G==3, similar_genre_3(X,Y), similar_plot_2(X,Y), common_language(X,Y), common_colour(X,Y))''')\n",
        "prolog.assertz('''(find_sim_3(X, Y, G):- G==2, similar_genre_2(X,Y), similar_plot_3(X,Y), common_language(X,Y), common_colour(X,Y))''')\n",
        "\n",
        "prolog.assertz('''(find_sim_2(X, Y):- similar_genre_1(X,Y), similar_plot_2(X,Y), common_language(X,Y), common_colour(X,Y);\n",
        "                                      similar_genre_2(X,Y), similar_plot_1(X,Y), common_language(X,Y), common_colour(X,Y))''')\n",
        "\n",
        "prolog.assertz('(find_sim_1(X, Y):- similar_genre_1(X,Y), similar_plot_1(X,Y))')"
      ],
      "execution_count": null,
      "outputs": []
    },
    {
      "cell_type": "code",
      "metadata": {
        "id": "bh_jfhPC4rUd"
      },
      "source": [
        "def simple_recommender(movie):\n",
        "    G = get_num_of_genres(movie)\n",
        "    s5 = set()\n",
        "    q = prolog.query(\"find_sim_5('\" + movie +\"',M, %d)\" %G)\n",
        "    for soln in q:\n",
        "        m = soln['M']\n",
        "        if m not in s5:\n",
        "            s5.add(soln['M'])\n",
        "    q.close()\n",
        "\n",
        "    s4 = set()\n",
        "    q = prolog.query(\"find_sim_4('\" + movie +\"',M, %d)\" %G)\n",
        "    for soln in q:\n",
        "        m = soln['M']\n",
        "        if m not in s4 and m not in s5:\n",
        "            s4.add(soln['M'])\n",
        "    q.close()\n",
        "\n",
        "    s3 = set()\n",
        "    q = prolog.query(\"find_sim_3('\" + movie +\"',M, %d)\" %G)\n",
        "    for soln in q:\n",
        "        m = soln['M'] \n",
        "        if m not in s3 and m not in s4 and m not in s5:\n",
        "            s3.add(soln['M'])\n",
        "    q.close()\n",
        "\n",
        "    s2 = set()\n",
        "    q = prolog.query(\"find_sim_2('\" + movie +\"',M)\")\n",
        "    for soln in q:\n",
        "        m = soln['M'] \n",
        "        if m not in s2 and m not in s3 and m not in s4 and m not in s5:\n",
        "            s2.add(soln['M'])\n",
        "    q.close()\n",
        "\n",
        "    s1 = set()\n",
        "    q = prolog.query(\"find_sim_1('\" + movie +\"',M)\")\n",
        "    for soln in q:\n",
        "        m = soln['M'] \n",
        "        if m not in s1 and m not in s2 and m not in s3 and m not in s4 and m not in s5:\n",
        "            s1.add(soln['M'])\n",
        "    q.close()\n",
        "    answers = set()\n",
        "    for s in s5:\n",
        "      answers.add((5, s))\n",
        "    for s in s4:\n",
        "      answers.add((4, s))\n",
        "    for s in s3:\n",
        "      answers.add((3, s))\n",
        "    for s in s2:\n",
        "      answers.add((2, s))\n",
        "    for s in s1:\n",
        "      answers.add((1, s))\n",
        "    sorted_answers = sorted(answers, key=lambda tup: tup[0], reverse=True)\n",
        "    return sorted_answers"
      ],
      "execution_count": null,
      "outputs": []
    },
    {
      "cell_type": "code",
      "metadata": {
        "id": "Ug_L_Qx-4rUd",
        "colab": {
          "base_uri": "https://localhost:8080/"
        },
        "outputId": "46305087-96f8-445e-dd30-fb36b0039f07"
      },
      "source": [
        "list(simple_recommender('Iron Man'))"
      ],
      "execution_count": null,
      "outputs": [
        {
          "output_type": "execute_result",
          "data": {
            "text/plain": [
              "[(4, 'Avengers: Age of Ultron'),\n",
              " (4, 'The Avengers'),\n",
              " (4, 'Iron Man 3'),\n",
              " (4, 'Iron Man 2'),\n",
              " (4, 'Ant-Man'),\n",
              " (4, 'Captain America: The Winter Soldier'),\n",
              " (3, 'The Wolverine'),\n",
              " (3, 'X-Men: Days of Future Past'),\n",
              " (3, 'X2'),\n",
              " (3, 'Superman Returns'),\n",
              " (3, 'Superman'),\n",
              " (3, 'X-Men Origins: Wolverine'),\n",
              " (3, 'Man of Steel'),\n",
              " (3, 'X-Men'),\n",
              " (3, 'Teenage Mutant Ninja Turtles'),\n",
              " (3, 'Superman III'),\n",
              " (3, 'The Shadow'),\n",
              " (3, 'X-Men: The Last Stand'),\n",
              " (3, 'Fantastic Four'),\n",
              " (3, 'Superman II'),\n",
              " (3, 'Mystery Men'),\n",
              " (3, 'Guardians of the Galaxy'),\n",
              " (2, 'The Fifth Element'),\n",
              " (2, 'Ghost Rider: Spirit of Vengeance'),\n",
              " (2, 'Hellboy II: The Golden Army'),\n",
              " (2, 'Brave'),\n",
              " (2, 'Monkeybone'),\n",
              " (2, 'The Phantom'),\n",
              " (2, 'The Sorcerers Apprentice'),\n",
              " (2, 'Green Lantern'),\n",
              " (2, 'Spider-Man'),\n",
              " (2, 'Spider-Man 3'),\n",
              " (2, 'Big Hero 6'),\n",
              " (2, 'Batman Begins'),\n",
              " (2, 'Lethal Weapon 3'),\n",
              " (2, 'March or Die'),\n",
              " (2, 'Scott Pilgrim vs. the World'),\n",
              " (2, 'The Dark Knight'),\n",
              " (2, 'Batman v Superman: Dawn of Justice'),\n",
              " (2, 'Suicide Squad'),\n",
              " (2, 'Southland Tales'),\n",
              " (2, 'Dragonball Evolution'),\n",
              " (2, 'Warcraft'),\n",
              " (2, 'The Amazing Spider-Man'),\n",
              " (2, 'Thor: The Dark World'),\n",
              " (2, 'Snowpiercer'),\n",
              " (2, 'Red Sonja'),\n",
              " (2, 'Kick-Ass 2'),\n",
              " (2, 'The Amazing Spider-Man 2'),\n",
              " (2, 'Live and Let Die'),\n",
              " (2, 'X-Men: Apocalypse'),\n",
              " (2, 'Pirates of the Caribbean: At Worlds End'),\n",
              " (2, 'Young Sherlock Holmes'),\n",
              " (2, 'Chain Reaction'),\n",
              " (2, 'Spider-Man 2'),\n",
              " (2, 'Teenage Mutant Ninja Turtles: Out of the Shadows'),\n",
              " (2, 'Repo Men'),\n",
              " (2, 'Deadpool'),\n",
              " (2, 'Batman'),\n",
              " (2, 'Nothing to Lose'),\n",
              " (2, 'On Her Majestys Secret Service'),\n",
              " (2, 'The Brothers Grimm'),\n",
              " (2, 'Pirates of the Caribbean: Dead Mans Chest'),\n",
              " (2, 'Fantastic 4: Rise of the Silver Surfer'),\n",
              " (2, 'Dredd'),\n",
              " (2, 'The Expendables 3'),\n",
              " (2, 'A Knights Tale'),\n",
              " (2, 'Superman IV: The Quest for Peace'),\n",
              " (2, 'Diamonds Are Forever'),\n",
              " (2, 'Pirates of the Caribbean: The Curse of the Black Pearl'),\n",
              " (2, 'Superhero Movie'),\n",
              " (2, 'Astro Boy'),\n",
              " (2, 'Thor'),\n",
              " (2, 'Hulk'),\n",
              " (2, 'Spawn'),\n",
              " (2, '30 Minutes or Less'),\n",
              " (2, 'MacGruber'),\n",
              " (2, 'Pirates of the Caribbean: On Stranger Tides'),\n",
              " (2, 'Watchmen'),\n",
              " (2, 'Battleship'),\n",
              " (1, 'Captain America: Civil War'),\n",
              " (1, 'Elektra'),\n",
              " (1, 'The Croods'),\n",
              " (1, 'Dogma'),\n",
              " (1, 'The Toxic Avenger Part II'),\n",
              " (1, 'Prometheus'),\n",
              " (1, 'The Man'),\n",
              " (1, 'Hot Rod'),\n",
              " (1, 'Whiteout'),\n",
              " (1, 'Minions'),\n",
              " (1, 'Big Miracle'),\n",
              " (1, 'Kill Bill: Vol. 2'),\n",
              " (1, 'Swordfish'),\n",
              " (1, 'The Specials'),\n",
              " (1, 'The Incredibles'),\n",
              " (1, 'Harry Potter and the Prisoner of Azkaban'),\n",
              " (1, 'Kung Fu Panda'),\n",
              " (1, 'Letters to God'),\n",
              " (1, 'Sin City'),\n",
              " (1, 'Aladdin'),\n",
              " (1, 'Hancock'),\n",
              " (1, 'Cloverfield'),\n",
              " (1, 'Blade: Trinity'),\n",
              " (1, 'Batman Returns'),\n",
              " (1, 'Unbreakable'),\n",
              " (1, '2 Guns'),\n",
              " (1, 'The Incredible Hulk'),\n",
              " (1, 'Crank'),\n",
              " (1, 'Batman & Robin'),\n",
              " (1, 'All Superheroes Must Die'),\n",
              " (1, 'Slither'),\n",
              " (1, 'The Animal'),\n",
              " (1, 'The Dark Knight Rises'),\n",
              " (1, 'Kick-Ass'),\n",
              " (1, 'Wreck-It Ralph'),\n",
              " (1, 'G.I. Jane'),\n",
              " (1, 'Harold & Kumar Escape from Guantanamo Bay'),\n",
              " (1, 'The Punisher'),\n",
              " (1, 'The Pirates! In an Adventure with Scientists!'),\n",
              " (1, 'Red State'),\n",
              " (1, 'Blade II'),\n",
              " (1, 'Lion of the Desert'),\n",
              " (1, 'TMNT'),\n",
              " (1, 'X-Men: First Class'),\n",
              " (1, 'The Smurfs'),\n",
              " (1, 'Cars'),\n",
              " (1, 'Defendor'),\n",
              " (1, 'Johnny English Reborn'),\n",
              " (1, 'Super'),\n",
              " (1, '22 Jump Street'),\n",
              " (1, 'Frozen'),\n",
              " (1, 'Blade'),\n",
              " (1, 'You Dont Mess with the Zohan'),\n",
              " (1, 'The Green Hornet'),\n",
              " (1, 'Max Payne'),\n",
              " (1, 'VeggieTales: The Pirates Who Dont Do Anything'),\n",
              " (1, 'Eraser'),\n",
              " (1, 'Chronicle'),\n",
              " (1, 'Red Sky'),\n",
              " (1, 'Stealth'),\n",
              " (1, 'Austin Powers: International Man of Mystery'),\n",
              " (1, 'The Man with the Golden Gun'),\n",
              " (1, 'Gentlemen Broncos'),\n",
              " (1, 'Hardflip'),\n",
              " (1, 'Beyond the Black Rainbow'),\n",
              " (1, 'Bee Movie'),\n",
              " (1, 'The Other Guys'),\n",
              " (1, 'Alvin and the Chipmunks: The Road Chip'),\n",
              " (1, 'The Muppet Movie'),\n",
              " (1, 'The Imaginarium of Doctor Parnassus'),\n",
              " (1, 'Hellboy'),\n",
              " (1, 'Crocodile Dundee II'),\n",
              " (1, 'The Country Bears'),\n",
              " (1, 'Batman Forever'),\n",
              " (1, 'Ghost Rider'),\n",
              " (1, 'The Grey'),\n",
              " (1, 'Captain America: The First Avenger'),\n",
              " (1, 'The Fast and the Furious'),\n",
              " (1, 'Harry Potter and the Chamber of Secrets'),\n",
              " (1, 'ParaNorman'),\n",
              " (1, 'Special'),\n",
              " (1, 'Austin Powers: The Spy Who Shagged Me')]"
            ]
          },
          "metadata": {},
          "execution_count": 23
        }
      ]
    },
    {
      "cell_type": "markdown",
      "source": [
        "Δοκιμάζοντας διαφορετικούς κανόνες και παρατηρώντας τα κατηγορήματα κάθε ταινίας παρατηρήσαμε ότι υπάρχουν περιπτώσεις όπου η μη βέλτιστη καταγραφή των στοιχείων της (στο αρχικό cvc) οδηγεί σε λάθος συμπεράσματα. Για παράδειγμα, οι ταινίες Iron Man, Iron Man 2 και Iron Man 3 γνωρίζουμε ότι έχουν κοινό πρωταγωνιστή τον Robert Downey Jr., όμως καμία από τις 3 ταινίες δεν τον αναφέρει ως ηθοποιό της. Το Home Alone 2 έχει για Keywords τις εξής: christmas, holiday, new york city, new york, οι οποίες είναι λίγες και όχι ιδιαίτερα περιγραφικές της πλοκής της ταινίας με αποτέλεσμα το Home Alone 1 να μην θεωρείται πολύ παρόμοια ταινία ενώ στην πραγματικότητα είναι σχεδόν ίδιες."
      ],
      "metadata": {
        "id": "L6TqL8DjFLl2"
      }
    },
    {
      "cell_type": "markdown",
      "metadata": {
        "id": "YjpTwOuO4rUd"
      },
      "source": [
        "# **3ο Μέρος: Recommendation System Με βάση τις προτιμήσεις-Αξιολογήσεις του χρήστη-Εκπαίδευση και Πρόβλεψη**\n",
        "\n",
        "\n",
        "Αρχικά μελετάμε τις αξιολογήσεις κάθε χρήστη για να καταλάβουμε την δομή και τις πληροφορίες κάθε αρχείου.\n",
        "\n",
        "\n"
      ]
    },
    {
      "cell_type": "code",
      "metadata": {
        "id": "lL9P3GOd4rUe"
      },
      "source": [
        "from tqdm.notebook import tqdm\n",
        "from sklearn.metrics import precision_score, recall_score, f1_score\n",
        "import numpy as np\n",
        "import random\n",
        "\n",
        "rating_weights = {0: -1, 1: -0.5, 2:0, 3:0, 4:0.5, 5:1}\n",
        "score_weights = {i:i + 1 for i in range(5)} # ανάλογα με τα επίπεδα ομοιότητας που έχουν οριστεί στην simple_recommender\n",
        "\n",
        "def train_recommender(ratings, rating_weights, score_weights, number_of_movies = 10):\n",
        "    \"\"\"\n",
        "    Στην συνάρτηση αυτή μπορούμε να ορίζουμε ποιο υποσύνολο των αξιολογήσεων θα χρησιμοποιήσουμε για το train μαζί με τα βάρη ομοιότητας και σκορ\n",
        "    Σε συνδυασμό με τον αριθμό των ταινιών που θέλουμε να χρησιμοποιήσουμε σαν σύνολο δεδομένων π.χ. 10 από τις 100 ή 3 από τις 100 κ.ο.κ\n",
        "    Αν θέλουμε να χρησιμοποιήσουμε όλες τις ταινίες σαν training set τότε ορίζουμε το number_of_movies = - 1\n",
        "    \"\"\"\n",
        "\n",
        "    if number_of_movies > len(ratings):\n",
        "        number_of_movies = len(ratings)\n",
        "\n",
        "\n",
        "    if number_of_movies != -1:\n",
        "        indexes = random.sample(range(len(ratings)), number_of_movies)\n",
        "        ratings = ratings.iloc[indexes]\n",
        "\n",
        "    movie_score = {}\n",
        "    for row in tqdm(ratings.itertuples(index=True, name='Pandas')):\n",
        "        movie = clean_text(getattr(row, 'movie_title'))\n",
        "        rating = getattr(row, 'rating')\n",
        "\n",
        "        similar_movies = simple_recommender(movie)\n",
        "\n",
        "        for (similarity, similar_movie) in similar_movies:\n",
        "            if similar_movie not in movie_score:\n",
        "                movie_score[similar_movie] = rating_weights[int(rating)] * score_weights[similarity - 1]\n",
        "            else:\n",
        "                movie_score[similar_movie] += rating_weights[int(rating)] * score_weights[similarity - 1] #το weight θα το ορίσετε ανα επίπεδο ομοιότητας οι πολύ όμοιες ταινίες θα έχουν μεγαλύτερο βάρος\n",
        "    return movie_score\n",
        "\n",
        "\n",
        "#αυτό είναι ένα παράδειγμα για το πως θα μπορούσε να υλοποιήθει η predict\n",
        "#έχουμε ορίσει ότι μια ταινία θα έπρεπε να είναι προτεινόμενη αν είχε σκορ > 0\n",
        "def predict_example(ratings, movie_score):\n",
        "    real, pred = [], []\n",
        "    for i, row in enumerate(ratings.itertuples(index=True, name='Pandas')):\n",
        "        movie = clean_text(getattr(row, 'movie_title'))\n",
        "        rating = getattr(row, 'rating')\n",
        "\n",
        "        if movie in movie_score: #αν έχουμε σχηματίσει βαθμολογία για την ταινία αυτή\n",
        "            pred.append(int(movie_score[movie] > 0)) #heuristic για το αν μια ταινία είναι προτεινόμενη\n",
        "            real.append(int(rating > 3))# έτσι ορίζουμε ότι μια ταινία θα έπρεπε να είναι προτεινόμενη\n",
        "            #η συνθήκη αυτή δεν μπορεί να αλλάξει\n",
        "        else: #δεν μπορούμε να προτείνουμε κάτι για το όποιο δεν έχουμε σχηματίσει εικόνα\n",
        "            pred.append(0)\n",
        "            real.append(int(rating > 3))\n",
        "\n",
        "    return real, pred\n",
        "\n",
        "def get_metrics(real, pred):\n",
        "    metrics = {}\n",
        "    metrics[\"precision\"] = precision_score(real, pred)\n",
        "    metrics[\"recall\"] = recall_score(real, pred)\n",
        "    metrics[\"f1\"] = f1_score(real, pred)\n",
        "    return metrics"
      ],
      "execution_count": null,
      "outputs": []
    },
    {
      "cell_type": "code",
      "metadata": {
        "id": "tnIDJLJX4rUe"
      },
      "source": [
        "train_ratings = pd.read_csv(path + \"train_ratings.csv\")\n",
        "test_ratings = pd.read_csv(path + \"test_ratings.csv\")"
      ],
      "execution_count": null,
      "outputs": []
    },
    {
      "cell_type": "code",
      "source": [
        "movie_score = train_recommender(train_ratings, rating_weights, score_weights, -1)\n",
        "real, pred = predict_example(test_ratings, movie_score)\n",
        "print(get_metrics(real, pred))"
      ],
      "metadata": {
        "id": "XK18aXlwZpLY",
        "colab": {
          "base_uri": "https://localhost:8080/",
          "height": 66,
          "referenced_widgets": [
            "84c636e88d8a43749931884e9e66d82b",
            "d9be9c14fd7b4f039b0f7983b1c4487f",
            "053426769e2a4b8e802b87c02697f17c",
            "8e0edad8175642aab746ebb5b458643f",
            "fc32b99f0a4d4ad4a8e43fbf7ac418db",
            "a957ee94ac6f4b3f83dee65f9582abec",
            "7fd573fc7ea84f23942404629a2720e4",
            "486c1db632734c8c9df257b645d6d23d",
            "002f1520494f42ce8a529f4c05e50fa3",
            "93f011c9d74843dbb7e100a516f85841",
            "7f2d9631efa34260aae089d73e47f744"
          ]
        },
        "outputId": "8fae90dc-0095-4427-d508-286a70606f73"
      },
      "execution_count": null,
      "outputs": [
        {
          "data": {
            "application/vnd.jupyter.widget-view+json": {
              "model_id": "84c636e88d8a43749931884e9e66d82b",
              "version_major": 2,
              "version_minor": 0
            },
            "text/plain": [
              "0it [00:00, ?it/s]"
            ]
          },
          "metadata": {},
          "output_type": "display_data"
        },
        {
          "output_type": "stream",
          "name": "stdout",
          "text": [
            "{'precision': 0.5180722891566265, 'recall': 0.5972222222222222, 'f1': 0.5548387096774194}\n"
          ]
        }
      ]
    },
    {
      "cell_type": "markdown",
      "source": [
        "####Σχολιασμός\n",
        "Παρατηρούμε ότι έχουμε precision 52% και recall 60% ποσοστά τα οποία είναι σχετικά ικανοποιητικά. Δοκιμάζοντας διαφορετικές παραμέτρους ως βάρη καταλλήξαμε στα παραπάνω βάρη. Όπως αναφέραμε παραπάνω τα αρχικά δεδομένα οδηγούν σε λανθασμένες ή ελλειπής προβλέψεις με αποτέλεσμα να μην έχουμε πολύ υψηλό percision και recall λόγω του περιεχομένου του dataset."
      ],
      "metadata": {
        "id": "dguLgek0FThF"
      }
    }
  ]
}